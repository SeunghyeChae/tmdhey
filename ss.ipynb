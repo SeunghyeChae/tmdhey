{
  "nbformat": 4,
  "nbformat_minor": 0,
  "metadata": {
    "colab": {
      "name": "ss.ipynb",
      "provenance": [],
      "machine_shape": "hm",
      "authorship_tag": "ABX9TyME38+nybVO1icBvE43RfUp",
      "include_colab_link": true
    },
    "kernelspec": {
      "name": "python3",
      "display_name": "Python 3"
    },
    "language_info": {
      "name": "python"
    },
    "accelerator": "GPU"
  },
  "cells": [
    {
      "cell_type": "markdown",
      "metadata": {
        "id": "view-in-github",
        "colab_type": "text"
      },
      "source": [
        "<a href=\"https://colab.research.google.com/github/SeunghyeChae/tmdhey/blob/main/ss.ipynb\" target=\"_parent\"><img src=\"https://colab.research.google.com/assets/colab-badge.svg\" alt=\"Open In Colab\"/></a>"
      ]
    },
    {
      "cell_type": "code",
      "source": [
        "from google.colab import drive\n",
        "drive.mount('/content/drive')"
      ],
      "metadata": {
        "colab": {
          "base_uri": "https://localhost:8080/"
        },
        "id": "iub9KkymD4vM",
        "outputId": "051c2348-3fee-4c00-80e0-d54e9e4f9fbf"
      },
      "execution_count": 1,
      "outputs": [
        {
          "output_type": "stream",
          "name": "stdout",
          "text": [
            "Mounted at /content/drive\n"
          ]
        }
      ]
    },
    {
      "cell_type": "code",
      "source": [
        "from PIL import Image\n",
        "import cv2\n",
        "import matplotlib.pyplot as plt \n",
        "\n",
        "# for i in range(1.21):\n",
        "#   img = cv2.imread('/content/drive/MyDrive/cakd_colab/2차플젝/unet/image/001_M.jpg',cv2.IMREAD_GRAYSCALE)\n",
        "#   img= cv2.resize(img,(1000,1200))\n",
        "\n",
        "  \n"
      ],
      "metadata": {
        "id": "MOzUrbOEEdyG"
      },
      "execution_count": 33,
      "outputs": []
    },
    {
      "cell_type": "code",
      "source": [
        ""
      ],
      "metadata": {
        "id": "KbS5jkx2Edqe"
      },
      "execution_count": null,
      "outputs": []
    }
  ]
}