{
 "cells": [
  {
   "cell_type": "markdown",
   "id": "a59daa73",
   "metadata": {},
   "source": [
    "# 데이터 확인"
   ]
  },
  {
   "cell_type": "markdown",
   "id": "0964215a",
   "metadata": {},
   "source": [
    "### 1. train.csv : 학습 데이터\n",
    "- id : 샘플 아이디\n",
    "- Species: 펭귄의 종을 나타내는 문자열\n",
    "- Island : 샘플들이 수집된 Palmer Station 근처 섬 이름\n",
    "- Clutch Completion : 관찰된 펭귄 둥지의 알이 2개인 경우 Full Clutch이며 Yes로 표기\n",
    "- Culmen Length (mm) : 펭귄 옆모습 기준 부리의 가로 길이\n",
    "- Culmen Depth (mm) : 펭귄 옆모습 기준 부리의 세로 길이\n",
    "- Flipper Length (mm) : 펭귄의 팔(날개) 길이\n",
    "- Sex : 펭귄의 성별\n",
    "- Delta 15 N (o/oo)  : 토양에 따라 변화하는 안정 동위원소 15N:14N의 비율\n",
    "- Delta 13 C (o/oo) : 먹이에 따라 변화하는 안정 동위원소 13C:12C의 비율\n",
    "- Body Mass (g): 펭귄의 몸무게를 나타내는 숫자 (g)\n",
    "\n",
    "\n",
    "### 2. test.csv : 테스트 데이터\n",
    "- id : 샘플 아이디\n",
    "- Species: 펭귄의 종을 나타내는 문자열\n",
    "- Island : 샘플들이 수집된 Palmer Station 근처 섬 이름\n",
    "- Clutch Completion : 관찰된 펭귄 둥지의 알이 2개인 경우 Full Clutch이며 Yes로 표기\n",
    "- Culmen Length (mm) : 펭귄 옆모습 기준 부리의 가로 길이\n",
    "- Culmen Depth (mm) : 펭귄 옆모습 기준 부리의 세로 길이\n",
    "- Flipper Length (mm) : 펭귄의 팔(날개) 길이\n",
    "- Sex : 펭귄의 성별\n",
    "- Delta 15 N (o/oo)  : 토양에 따라 변화하는 안정 동위원소 15N:14N의 비율\n",
    "- Delta 13 C (o/oo) : 먹이에 따라 변화하는 안정 동위원소 13C:12C의 비율"
   ]
  },
  {
   "cell_type": "markdown",
   "id": "e7a713fd",
   "metadata": {},
   "source": [
    "# 데이터 불러오기"
   ]
  },
  {
   "cell_type": "code",
   "execution_count": 117,
   "id": "650f94b0",
   "metadata": {},
   "outputs": [],
   "source": [
    "import pandas as pd\n",
    "import numpy as np\n",
    "import matplotlib.pyplot as plt\n",
    "import seaborn as sns\n",
    "import warnings\n",
    "warnings.filterwarnings('ignore')\n",
    "\n",
    "\n",
    "df= pd.read_csv('dataset/train.csv')\n",
    "tst_df= pd.read_csv('dataset/test.csv')"
   ]
  },
  {
   "cell_type": "markdown",
   "id": "dfc88dd1",
   "metadata": {},
   "source": [
    "# 데이터 인코딩"
   ]
  },
  {
   "cell_type": "code",
   "execution_count": 145,
   "id": "01b7b11b",
   "metadata": {},
   "outputs": [],
   "source": [
    "df['Sex']=np.where(df['Sex'].values=='MALE',1,np.where(df['Sex'].values=='FEMALE',0,np.nan))\n",
    "tst_df['Sex']=np.where(tst_df['Sex'].values=='MALE',1,np.where(tst_df['Sex'].values=='FEMALE',0,np.nan))\n",
    "df['Clutch Completion']=np.where(df['Clutch Completion'].values=='Yes',1,0)\n",
    "tst_df['Clutch Completion']=np.where(tst_df['Clutch Completion'].values=='Yes',1,0)\n",
    "df = pd.concat([df,pd.get_dummies(df[['Island','Species']])],axis=1)\n",
    "tst_df = pd.concat([tst_df,pd.get_dummies(tst_df[['Island','Species']])],axis=1)\n",
    "df = df.drop(['Island','Species'],axis=1)\n",
    "tst_df = tst_df.drop(['Island','Species'],axis=1)"
   ]
  },
  {
   "cell_type": "markdown",
   "id": "b7283e37",
   "metadata": {},
   "source": [
    "# 결측값 삭제 및 대체"
   ]
  },
  {
   "cell_type": "code",
   "execution_count": 146,
   "id": "4938152a",
   "metadata": {},
   "outputs": [],
   "source": [
    "sex_features = ['Culmen Length (mm)', 'Culmen Depth (mm)',\n",
    "       'Flipper Length (mm)','Species_Adelie Penguin (Pygoscelis adeliae)',\n",
    "       'Species_Chinstrap penguin (Pygoscelis antarctica)',\n",
    "       'Species_Gentoo penguin (Pygoscelis papua)', 'Island_Biscoe', 'Island_Dream', 'Island_Torgersen'\n",
    "       ]\n"
   ]
  },
  {
   "cell_type": "code",
   "execution_count": 147,
   "id": "a7ac4f2a",
   "metadata": {},
   "outputs": [],
   "source": [
    "# sex\n",
    "from sklearn.ensemble import AdaBoostClassifier\n",
    "\n",
    "sex_model = AdaBoostClassifier()\n",
    "sex_model.fit(df[sex_features].iloc[df['Sex'].dropna().index],df['Sex'].iloc[df['Sex'].dropna().index])\n",
    "df['Sex'].iloc[np.where(df['Sex'].isnull()==True)] =  sex_model.predict(df[df['Sex'].isnull()][sex_features])\n",
    "tst_df['Sex'].iloc[np.where(tst_df['Sex'].isnull()==True)] =  sex_model.predict(tst_df[tst_df['Sex'].isnull()][sex_features])"
   ]
  },
  {
   "cell_type": "code",
   "execution_count": 122,
   "id": "2d581384",
   "metadata": {},
   "outputs": [],
   "source": [
    "Delta_features = ['Culmen Length (mm)', 'Culmen Depth (mm)',\n",
    "       'Flipper Length (mm)','Species_Adelie Penguin (Pygoscelis adeliae)',\n",
    "       'Species_Chinstrap penguin (Pygoscelis antarctica)',\n",
    "       'Species_Gentoo penguin (Pygoscelis papua)', 'Island_Biscoe', 'Island_Dream', 'Island_Torgersen','Sex'\n",
    "       ]"
   ]
  },
  {
   "cell_type": "code",
   "execution_count": 148,
   "id": "7023ef66",
   "metadata": {},
   "outputs": [],
   "source": [
    "# delta\n",
    "from sklearn.ensemble import AdaBoostRegressor\n",
    "\n",
    "ada_model = AdaBoostRegressor()\n",
    "ada_model.fit(df[Delta_features].iloc[df['Delta 15 N (o/oo)'].dropna().index]\n",
    "                               ,df['Delta 15 N (o/oo)'].iloc[df['Delta 15 N (o/oo)'].dropna().index])\n",
    "df['Delta 15 N (o/oo)'].iloc[np.where(df['Delta 15 N (o/oo)'].isnull()==True)] =  ada_model.predict(df[df['Delta 15 N (o/oo)'].isnull()][Delta_features])\n",
    "tst_df['Delta 15 N (o/oo)'].iloc[np.where(tst_df['Delta 15 N (o/oo)'].isnull()==True)] =  ada_model.predict(tst_df[tst_df['Delta 15 N (o/oo)'].isnull()][Delta_features])"
   ]
  },
  {
   "cell_type": "code",
   "execution_count": 149,
   "id": "073ba253",
   "metadata": {},
   "outputs": [],
   "source": [
    "from sklearn.linear_model import LinearRegression\n",
    "\n",
    "lr_model = LinearRegression()\n",
    "lr_model.fit(df[Delta_features].iloc[df['Delta 13 C (o/oo)'].dropna().index]\n",
    "                               ,df['Delta 13 C (o/oo)'].iloc[df['Delta 13 C (o/oo)'].dropna().index])\n",
    "df['Delta 13 C (o/oo)'].iloc[np.where(df['Delta 13 C (o/oo)'].isnull()==True)] =  lr_model.predict(df[df['Delta 13 C (o/oo)'].isnull()][Delta_features])\n",
    "tst_df['Delta 13 C (o/oo)'].iloc[np.where(tst_df['Delta 13 C (o/oo)'].isnull()==True)] =  lr_model.predict(tst_df[tst_df['Delta 13 C (o/oo)'].isnull()][Delta_features])"
   ]
  },
  {
   "cell_type": "code",
   "execution_count": 150,
   "id": "9c2925b3",
   "metadata": {
    "scrolled": true
   },
   "outputs": [
    {
     "data": {
      "text/plain": [
       "id                                                   0\n",
       "Clutch Completion                                    0\n",
       "Culmen Length (mm)                                   0\n",
       "Culmen Depth (mm)                                    0\n",
       "Flipper Length (mm)                                  0\n",
       "Sex                                                  0\n",
       "Delta 15 N (o/oo)                                    0\n",
       "Delta 13 C (o/oo)                                    0\n",
       "Island_Biscoe                                        0\n",
       "Island_Dream                                         0\n",
       "Island_Torgersen                                     0\n",
       "Species_Adelie Penguin (Pygoscelis adeliae)          0\n",
       "Species_Chinstrap penguin (Pygoscelis antarctica)    0\n",
       "Species_Gentoo penguin (Pygoscelis papua)            0\n",
       "dtype: int64"
      ]
     },
     "execution_count": 150,
     "metadata": {},
     "output_type": "execute_result"
    }
   ],
   "source": [
    "tst_df.isnull().sum()"
   ]
  },
  {
   "cell_type": "code",
   "execution_count": 151,
   "id": "cca2e200",
   "metadata": {},
   "outputs": [],
   "source": [
    "df.drop(['Clutch Completion'],axis=1,inplace=True)\n",
    "tst_df.drop(['Clutch Completion'],axis=1,inplace=True)"
   ]
  },
  {
   "cell_type": "code",
   "execution_count": 152,
   "id": "241fe42c",
   "metadata": {},
   "outputs": [
    {
     "data": {
      "text/plain": [
       "Index(['id', 'Culmen Length (mm)', 'Culmen Depth (mm)', 'Flipper Length (mm)',\n",
       "       'Sex', 'Delta 15 N (o/oo)', 'Delta 13 C (o/oo)', 'Island_Biscoe',\n",
       "       'Island_Dream', 'Island_Torgersen',\n",
       "       'Species_Adelie Penguin (Pygoscelis adeliae)',\n",
       "       'Species_Chinstrap penguin (Pygoscelis antarctica)',\n",
       "       'Species_Gentoo penguin (Pygoscelis papua)'],\n",
       "      dtype='object')"
      ]
     },
     "execution_count": 152,
     "metadata": {},
     "output_type": "execute_result"
    }
   ],
   "source": [
    "tst_df.columns"
   ]
  },
  {
   "cell_type": "code",
   "execution_count": 153,
   "id": "80b608c9",
   "metadata": {},
   "outputs": [],
   "source": [
    "df.columns = [\"id\",'clength','cdepth','flength','sex','nrate','crate','g',\n",
    "                 'i_biscoe','i_dream','i_torgersen','s_adelie','s_chin','s_gentoo',]\n",
    "\n",
    "tst_df.columns= [\"id\",'clength','cdepth','flength','sex','nrate','crate',\n",
    "                 'i_biscoe','i_dream','i_torgersen','s_adelie','s_chin','s_gentoo',]"
   ]
  },
  {
   "cell_type": "markdown",
   "id": "6dc06e2d",
   "metadata": {},
   "source": [
    "# predict"
   ]
  },
  {
   "cell_type": "code",
   "execution_count": 154,
   "id": "37ad863d",
   "metadata": {},
   "outputs": [],
   "source": [
    "X =df[['clength','cdepth','flength','sex','nrate','crate',\n",
    "                 'i_biscoe','i_dream','i_torgersen','s_adelie','s_chin','s_gentoo',]]\n",
    "Y= df[['g']]"
   ]
  },
  {
   "cell_type": "code",
   "execution_count": 155,
   "id": "0cb75c0a",
   "metadata": {},
   "outputs": [],
   "source": [
    "from sklearn.model_selection import train_test_split\n",
    "seed=0\n",
    "x_train, x_val, y_train, y_val = train_test_split(X,Y,test_size=0.2,random_state=seed)"
   ]
  },
  {
   "cell_type": "code",
   "execution_count": 156,
   "id": "a26e9ce3",
   "metadata": {},
   "outputs": [],
   "source": [
    "def get_model_cv_prediction(model, X_data, y_target):\n",
    "    neg_mse_scores = cross_val_score(model, X_data, y_target, scoring=\"neg_mean_squared_error\", cv = 5)\n",
    "    rmse_scores  = np.sqrt(-1 * neg_mse_scores)\n",
    "    avg_rmse = np.mean(rmse_scores)\n",
    "    print('##### ',model.__class__.__name__ , ' #####')\n",
    "    print(' 5 교차 검증의 평균 RMSE : {0:.3f} '.format(avg_rmse))"
   ]
  },
  {
   "cell_type": "markdown",
   "id": "dc7af97e",
   "metadata": {},
   "source": [
    "### LinearRegression"
   ]
  },
  {
   "cell_type": "code",
   "execution_count": 157,
   "id": "b99ef6ee",
   "metadata": {},
   "outputs": [
    {
     "name": "stdout",
     "output_type": "stream",
     "text": [
      "0.8308896122735631\n",
      "\n",
      "#####  LinearRegression  #####\n",
      " 5 교차 검증의 평균 RMSE : 329.127 \n",
      "None\n"
     ]
    }
   ],
   "source": [
    "from sklearn.linear_model import LinearRegression\n",
    "from sklearn.model_selection import cross_val_score\n",
    "\n",
    "\n",
    "reg = LinearRegression()\n",
    "reg.fit(x_train,y_train)\n",
    "\n",
    "print(reg.score(x_val,y_val))\n",
    "print()\n",
    "print(get_model_cv_prediction(reg,x_val,y_val))"
   ]
  },
  {
   "cell_type": "markdown",
   "id": "d6b4725e",
   "metadata": {},
   "source": [
    "### GradientBoostingRegressor"
   ]
  },
  {
   "cell_type": "code",
   "execution_count": 158,
   "id": "3a072a9e",
   "metadata": {},
   "outputs": [
    {
     "name": "stdout",
     "output_type": "stream",
     "text": [
      "0.7318649402209413\n",
      "\n",
      "#####  GradientBoostingRegressor  #####\n",
      " 5 교차 검증의 평균 RMSE : 523.372 \n",
      "None\n"
     ]
    }
   ],
   "source": [
    "from sklearn import ensemble\n",
    "clf = ensemble.GradientBoostingRegressor(n_estimators = 400, max_depth = 5, min_samples_split = 2,\n",
    "                                         learning_rate = 0.1, loss = 'ls')\n",
    "\n",
    "clf.fit(x_train, y_train)\n",
    "\n",
    "print(clf.score(x_val,y_val))\n",
    "print()\n",
    "print(get_model_cv_prediction(clf,x_val,y_val))"
   ]
  },
  {
   "cell_type": "markdown",
   "id": "5a9a82a7",
   "metadata": {},
   "source": [
    "### Ridge/ Lasso\n"
   ]
  },
  {
   "cell_type": "code",
   "execution_count": 159,
   "id": "2f126f17",
   "metadata": {},
   "outputs": [
    {
     "name": "stdout",
     "output_type": "stream",
     "text": [
      "0.8422696036016932\n",
      "0.8309268798080788\n",
      "\n",
      "#####  Ridge  #####\n",
      " 5 교차 검증의 평균 RMSE : 340.120 \n",
      "None\n",
      "#####  Lasso  #####\n",
      " 5 교차 검증의 평균 RMSE : 345.034 \n",
      "None\n"
     ]
    }
   ],
   "source": [
    "from sklearn.linear_model import Ridge , Lasso\n",
    "\n",
    "ridge_reg = Ridge(alpha=10)\n",
    "ridge_reg.fit(x_train, y_train)\n",
    "\n",
    "lasso_reg = Lasso(alpha=0.01)\n",
    "lasso_reg.fit(x_train, y_train)\n",
    "\n",
    "print(ridge_reg.score(x_val,y_val))\n",
    "print(lasso_reg.score(x_val,y_val))\n",
    "\n",
    "print()\n",
    "print(get_model_cv_prediction(ridge_reg,x_val,y_val))\n",
    "print(get_model_cv_prediction(lasso_reg,x_val,y_val))"
   ]
  },
  {
   "cell_type": "markdown",
   "id": "7acd90d0",
   "metadata": {},
   "source": [
    "# Elasticnet"
   ]
  },
  {
   "cell_type": "code",
   "execution_count": 160,
   "id": "45809152",
   "metadata": {},
   "outputs": [
    {
     "name": "stdout",
     "output_type": "stream",
     "text": [
      "0.7987146983311875\n",
      "\n",
      "#####  ElasticNet  #####\n",
      " 5 교차 검증의 평균 RMSE : 338.175 \n",
      "None\n"
     ]
    }
   ],
   "source": [
    "from sklearn.linear_model import ElasticNet\n",
    "\n",
    "enet = ElasticNet(alpha=1.0, l1_ratio=0.5)\n",
    "enet.fit(x_train, y_train)\n",
    "\n",
    "print(enet.score(x_val,y_val))\n",
    "print()\n",
    "print(get_model_cv_prediction(enet,x_val,y_val))"
   ]
  },
  {
   "cell_type": "markdown",
   "id": "c9f03947",
   "metadata": {},
   "source": [
    "# tst_df 예측"
   ]
  },
  {
   "cell_type": "code",
   "execution_count": 161,
   "id": "44e5562b",
   "metadata": {},
   "outputs": [
    {
     "name": "stdout",
     "output_type": "stream",
     "text": [
      "Linear - RMSE for test data:  306.66671879806097\n",
      "Ridge - RMSE for test data:  296.1687287370829\n",
      "Lasso - RMSE for test data:  306.6329262487135\n"
     ]
    }
   ],
   "source": [
    "from sklearn.metrics import mean_squared_error\n",
    "\n",
    "lr_pred = reg.predict(x_val)\n",
    "ridge_pred = ridge_reg.predict(x_val)\n",
    "lasso_pred = lasso_reg.predict(x_val)\n",
    "\n",
    "\n",
    "print('Linear - RMSE for test data: ', np.sqrt(mean_squared_error(y_val, lr_pred)))\n",
    "print('Ridge - RMSE for test data: ', np.sqrt(mean_squared_error(y_val, ridge_pred)))\n",
    "print('Lasso - RMSE for test data: ', np.sqrt(mean_squared_error(y_val, lasso_pred)))\n",
    "\n",
    "\n"
   ]
  },
  {
   "cell_type": "code",
   "execution_count": 162,
   "id": "6e9d3e67",
   "metadata": {},
   "outputs": [
    {
     "name": "stdout",
     "output_type": "stream",
     "text": [
      "Ridge(alpha=0.5)\n",
      "Lasso(alpha=10)\n"
     ]
    }
   ],
   "source": [
    "from sklearn.model_selection import GridSearchCV\n",
    "\n",
    "params = {'alpha':[0.5,0.8,0.9,1,1.1,1.2,1.3,1.4,1.5,1.6,1.7,1.8,1.9,2,10]}\n",
    "params_2 = {'alpha':[0.5,1,2,2.5,3,3.5,4]}\n",
    "\n",
    "ridge_model = Ridge()\n",
    "lasso_model = Lasso()\n",
    "\n",
    "# define the grid search\n",
    "Ridge_reg= GridSearchCV(ridge_model, params, scoring='neg_mean_squared_error',cv=5)\n",
    "Lasso_reg= GridSearchCV(lasso_model, params, scoring='neg_mean_squared_error',cv=5)\n",
    "\n",
    "#fit the grid search\n",
    "Ridge_reg.fit(x_val,y_val)\n",
    "Lasso_reg.fit(x_val,y_val)\n",
    "\n",
    "# best estimator\n",
    "print(Ridge_reg.best_estimator_)\n",
    "print(Lasso_reg.best_estimator_)"
   ]
  },
  {
   "cell_type": "code",
   "execution_count": 163,
   "id": "a70f7658",
   "metadata": {},
   "outputs": [
    {
     "data": {
      "text/plain": [
       "Ridge(alpha=10)"
      ]
     },
     "execution_count": 163,
     "metadata": {},
     "output_type": "execute_result"
    }
   ],
   "source": [
    "from sklearn.linear_model import Ridge , Lasso\n",
    "\n",
    "ridge_reg = Ridge(alpha=10)\n",
    "ridge_reg.fit(x_train, y_train)\n"
   ]
  },
  {
   "cell_type": "code",
   "execution_count": 165,
   "id": "0e70fdaa",
   "metadata": {},
   "outputs": [],
   "source": [
    "X =tst_df[['clength','cdepth','flength','sex','nrate','crate',\n",
    "                 'i_biscoe','i_dream','i_torgersen','s_adelie','s_chin','s_gentoo',]]"
   ]
  },
  {
   "cell_type": "code",
   "execution_count": 166,
   "id": "d3109f1f",
   "metadata": {},
   "outputs": [],
   "source": [
    "pred = ridge_reg.predict(X)\n",
    "\n",
    "tst_df['Body Mass (g)'] = pred"
   ]
  },
  {
   "cell_type": "code",
   "execution_count": 167,
   "id": "4f704850",
   "metadata": {},
   "outputs": [],
   "source": [
    "test= tst_df[['id','Body Mass (g)']]"
   ]
  },
  {
   "cell_type": "code",
   "execution_count": 168,
   "id": "504e55fc",
   "metadata": {},
   "outputs": [
    {
     "data": {
      "text/html": [
       "<div>\n",
       "<style scoped>\n",
       "    .dataframe tbody tr th:only-of-type {\n",
       "        vertical-align: middle;\n",
       "    }\n",
       "\n",
       "    .dataframe tbody tr th {\n",
       "        vertical-align: top;\n",
       "    }\n",
       "\n",
       "    .dataframe thead th {\n",
       "        text-align: right;\n",
       "    }\n",
       "</style>\n",
       "<table border=\"1\" class=\"dataframe\">\n",
       "  <thead>\n",
       "    <tr style=\"text-align: right;\">\n",
       "      <th></th>\n",
       "      <th>id</th>\n",
       "      <th>Body Mass (g)</th>\n",
       "    </tr>\n",
       "  </thead>\n",
       "  <tbody>\n",
       "    <tr>\n",
       "      <th>0</th>\n",
       "      <td>0</td>\n",
       "      <td>4455.996803</td>\n",
       "    </tr>\n",
       "    <tr>\n",
       "      <th>1</th>\n",
       "      <td>1</td>\n",
       "      <td>5572.558550</td>\n",
       "    </tr>\n",
       "    <tr>\n",
       "      <th>2</th>\n",
       "      <td>2</td>\n",
       "      <td>3662.054305</td>\n",
       "    </tr>\n",
       "    <tr>\n",
       "      <th>3</th>\n",
       "      <td>3</td>\n",
       "      <td>3469.317357</td>\n",
       "    </tr>\n",
       "    <tr>\n",
       "      <th>4</th>\n",
       "      <td>4</td>\n",
       "      <td>3231.869958</td>\n",
       "    </tr>\n",
       "  </tbody>\n",
       "</table>\n",
       "</div>"
      ],
      "text/plain": [
       "   id  Body Mass (g)\n",
       "0   0    4455.996803\n",
       "1   1    5572.558550\n",
       "2   2    3662.054305\n",
       "3   3    3469.317357\n",
       "4   4    3231.869958"
      ]
     },
     "execution_count": 168,
     "metadata": {},
     "output_type": "execute_result"
    }
   ],
   "source": [
    "test.head()"
   ]
  },
  {
   "cell_type": "code",
   "execution_count": 144,
   "id": "82bd0d81",
   "metadata": {},
   "outputs": [],
   "source": [
    "test.to_csv('dataset/predicted_test_5.csv',index=False)"
   ]
  },
  {
   "cell_type": "code",
   "execution_count": null,
   "id": "72b281d7",
   "metadata": {},
   "outputs": [],
   "source": []
  }
 ],
 "metadata": {
  "kernelspec": {
   "display_name": "Python 3",
   "language": "python",
   "name": "python3"
  },
  "language_info": {
   "codemirror_mode": {
    "name": "ipython",
    "version": 3
   },
   "file_extension": ".py",
   "mimetype": "text/x-python",
   "name": "python",
   "nbconvert_exporter": "python",
   "pygments_lexer": "ipython3",
   "version": "3.8.8"
  }
 },
 "nbformat": 4,
 "nbformat_minor": 5
}
