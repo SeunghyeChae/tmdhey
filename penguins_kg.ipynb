{
 "cells": [
  {
   "cell_type": "markdown",
   "id": "a59daa73",
   "metadata": {},
   "source": [
    "# 데이터 확인"
   ]
  },
  {
   "cell_type": "markdown",
   "id": "0964215a",
   "metadata": {},
   "source": [
    "### 1. train.csv : 학습 데이터\n",
    "- id : 샘플 아이디\n",
    "- Species: 펭귄의 종을 나타내는 문자열\n",
    "- Island : 샘플들이 수집된 Palmer Station 근처 섬 이름\n",
    "- Clutch Completion : 관찰된 펭귄 둥지의 알이 2개인 경우 Full Clutch이며 Yes로 표기\n",
    "- Culmen Length (mm) : 펭귄 옆모습 기준 부리의 가로 길이\n",
    "- Culmen Depth (mm) : 펭귄 옆모습 기준 부리의 세로 길이\n",
    "- Flipper Length (mm) : 펭귄의 팔(날개) 길이\n",
    "- Sex : 펭귄의 성별\n",
    "- Delta 15 N (o/oo)  : 토양에 따라 변화하는 안정 동위원소 15N:14N의 비율\n",
    "- Delta 13 C (o/oo) : 먹이에 따라 변화하는 안정 동위원소 13C:12C의 비율\n",
    "- Body Mass (g): 펭귄의 몸무게를 나타내는 숫자 (g)\n",
    "\n",
    "\n",
    "### 2. test.csv : 테스트 데이터\n",
    "- id : 샘플 아이디\n",
    "- Species: 펭귄의 종을 나타내는 문자열\n",
    "- Island : 샘플들이 수집된 Palmer Station 근처 섬 이름\n",
    "- Clutch Completion : 관찰된 펭귄 둥지의 알이 2개인 경우 Full Clutch이며 Yes로 표기\n",
    "- Culmen Length (mm) : 펭귄 옆모습 기준 부리의 가로 길이\n",
    "- Culmen Depth (mm) : 펭귄 옆모습 기준 부리의 세로 길이\n",
    "- Flipper Length (mm) : 펭귄의 팔(날개) 길이\n",
    "- Sex : 펭귄의 성별\n",
    "- Delta 15 N (o/oo)  : 토양에 따라 변화하는 안정 동위원소 15N:14N의 비율\n",
    "- Delta 13 C (o/oo) : 먹이에 따라 변화하는 안정 동위원소 13C:12C의 비율"
   ]
  },
  {
   "cell_type": "markdown",
   "id": "e7a713fd",
   "metadata": {},
   "source": [
    "# 데이터 불러오기"
   ]
  },
  {
   "cell_type": "code",
   "execution_count": 543,
   "id": "650f94b0",
   "metadata": {},
   "outputs": [],
   "source": [
    "import pandas as pd\n",
    "import numpy as np\n",
    "import matplotlib.pyplot as plt\n",
    "import seaborn as sns\n",
    "import warnings\n",
    "warnings.filterwarnings('ignore')\n",
    "\n",
    "\n",
    "df= pd.read_csv('dataset/train.csv')\n",
    "tst_df= pd.read_csv('dataset/test.csv')"
   ]
  },
  {
   "cell_type": "code",
   "execution_count": 544,
   "id": "87d05dc5",
   "metadata": {
    "scrolled": false
   },
   "outputs": [
    {
     "data": {
      "text/html": [
       "<div>\n",
       "<style scoped>\n",
       "    .dataframe tbody tr th:only-of-type {\n",
       "        vertical-align: middle;\n",
       "    }\n",
       "\n",
       "    .dataframe tbody tr th {\n",
       "        vertical-align: top;\n",
       "    }\n",
       "\n",
       "    .dataframe thead th {\n",
       "        text-align: right;\n",
       "    }\n",
       "</style>\n",
       "<table border=\"1\" class=\"dataframe\">\n",
       "  <thead>\n",
       "    <tr style=\"text-align: right;\">\n",
       "      <th></th>\n",
       "      <th>id</th>\n",
       "      <th>Species</th>\n",
       "      <th>Island</th>\n",
       "      <th>Clutch Completion</th>\n",
       "      <th>Culmen Length (mm)</th>\n",
       "      <th>Culmen Depth (mm)</th>\n",
       "      <th>Flipper Length (mm)</th>\n",
       "      <th>Sex</th>\n",
       "      <th>Delta 15 N (o/oo)</th>\n",
       "      <th>Delta 13 C (o/oo)</th>\n",
       "      <th>Body Mass (g)</th>\n",
       "    </tr>\n",
       "  </thead>\n",
       "  <tbody>\n",
       "    <tr>\n",
       "      <th>0</th>\n",
       "      <td>0</td>\n",
       "      <td>Gentoo penguin (Pygoscelis papua)</td>\n",
       "      <td>Biscoe</td>\n",
       "      <td>Yes</td>\n",
       "      <td>50.0</td>\n",
       "      <td>15.3</td>\n",
       "      <td>220</td>\n",
       "      <td>MALE</td>\n",
       "      <td>8.30515</td>\n",
       "      <td>-25.19017</td>\n",
       "      <td>5550</td>\n",
       "    </tr>\n",
       "  </tbody>\n",
       "</table>\n",
       "</div>"
      ],
      "text/plain": [
       "   id                            Species  Island Clutch Completion  \\\n",
       "0   0  Gentoo penguin (Pygoscelis papua)  Biscoe               Yes   \n",
       "\n",
       "   Culmen Length (mm)  Culmen Depth (mm)  Flipper Length (mm)   Sex  \\\n",
       "0                50.0               15.3                  220  MALE   \n",
       "\n",
       "   Delta 15 N (o/oo)  Delta 13 C (o/oo)  Body Mass (g)  \n",
       "0            8.30515          -25.19017           5550  "
      ]
     },
     "execution_count": 544,
     "metadata": {},
     "output_type": "execute_result"
    }
   ],
   "source": [
    "df.head(1)"
   ]
  },
  {
   "cell_type": "code",
   "execution_count": 545,
   "id": "204f54e8",
   "metadata": {
    "scrolled": true
   },
   "outputs": [
    {
     "data": {
      "text/plain": [
       "<AxesSubplot:xlabel='Body Mass (g)'>"
      ]
     },
     "execution_count": 545,
     "metadata": {},
     "output_type": "execute_result"
    },
    {
     "data": {
      "image/png": "[encoded data removed]",
      "text/plain": [
       "<Figure size 432x288 with 1 Axes>"
      ]
     },
     "metadata": {
      "needs_background": "light"
     },
     "output_type": "display_data"
    }
   ],
   "source": [
    "# 모든컬럼 이상치없음\n",
    "sns.boxplot(x=df['Body Mass (g)'])"
   ]
  },
  {
   "cell_type": "code",
   "execution_count": null,
   "id": "da0e17f9",
   "metadata": {},
   "outputs": [],
   "source": []
  },
  {
   "cell_type": "markdown",
   "id": "dfc88dd1",
   "metadata": {},
   "source": [
    "# 데이터 인코딩"
   ]
  },
  {
   "cell_type": "code",
   "execution_count": 546,
   "id": "376ad748",
   "metadata": {},
   "outputs": [],
   "source": [
    "# df.corr()['Sex']"
   ]
  },
  {
   "cell_type": "code",
   "execution_count": 547,
   "id": "01b7b11b",
   "metadata": {},
   "outputs": [],
   "source": [
    "df['Sex']=np.where(df['Sex'].values=='MALE',1,np.where(df['Sex'].values=='FEMALE',0,np.nan))\n",
    "tst_df['Sex']=np.where(tst_df['Sex'].values=='MALE',1,np.where(tst_df['Sex'].values=='FEMALE',0,np.nan))\n",
    "df['Clutch Completion']=np.where(df['Clutch Completion'].values=='Yes',1,0)\n",
    "tst_df['Clutch Completion']=np.where(tst_df['Clutch Completion'].values=='Yes',1,0)\n",
    "df = pd.concat([df,pd.get_dummies(df[['Island','Species']])],axis=1)\n",
    "tst_df = pd.concat([tst_df,pd.get_dummies(tst_df[['Island','Species']])],axis=1)\n",
    "df = df.drop(['Island','Species'],axis=1)\n",
    "tst_df = tst_df.drop(['Island','Species'],axis=1)"
   ]
  },
  {
   "cell_type": "markdown",
   "id": "b7283e37",
   "metadata": {},
   "source": [
    "# 결측값 삭제 및 대체"
   ]
  },
  {
   "cell_type": "code",
   "execution_count": 548,
   "id": "4938152a",
   "metadata": {},
   "outputs": [],
   "source": [
    "sex_features = ['Culmen Length (mm)', 'Culmen Depth (mm)',\n",
    "       'Flipper Length (mm)','Species_Adelie Penguin (Pygoscelis adeliae)',\n",
    "       'Species_Chinstrap penguin (Pygoscelis antarctica)',\n",
    "       'Species_Gentoo penguin (Pygoscelis papua)', 'Island_Biscoe', 'Island_Dream', 'Island_Torgersen'\n",
    "       ]\n"
   ]
  },
  {
   "cell_type": "code",
   "execution_count": 549,
   "id": "a7ac4f2a",
   "metadata": {},
   "outputs": [],
   "source": [
    "# sex\n",
    "from sklearn.ensemble import AdaBoostClassifier\n",
    "\n",
    "sex_model = AdaBoostClassifier()\n",
    "sex_model.fit(df[sex_features].iloc[df['Sex'].dropna().index],df['Sex'].iloc[df['Sex'].dropna().index])\n",
    "df['Sex'].iloc[np.where(df['Sex'].isnull()==True)] =  sex_model.predict(df[df['Sex'].isnull()][sex_features])\n",
    "tst_df['Sex'].iloc[np.where(tst_df['Sex'].isnull()==True)] =  sex_model.predict(tst_df[tst_df['Sex'].isnull()][sex_features])"
   ]
  },
  {
   "cell_type": "code",
   "execution_count": 550,
   "id": "2d581384",
   "metadata": {},
   "outputs": [],
   "source": [
    "Delta_features = ['Culmen Length (mm)', 'Culmen Depth (mm)',\n",
    "       'Flipper Length (mm)','Species_Adelie Penguin (Pygoscelis adeliae)',\n",
    "       'Species_Chinstrap penguin (Pygoscelis antarctica)',\n",
    "       'Species_Gentoo penguin (Pygoscelis papua)', 'Island_Biscoe', 'Island_Dream', 'Island_Torgersen','Sex'\n",
    "       ]\n"
   ]
  },
  {
   "cell_type": "code",
   "execution_count": 551,
   "id": "7023ef66",
   "metadata": {
    "scrolled": true
   },
   "outputs": [],
   "source": [
    "# deltan\n",
    "from sklearn.ensemble import AdaBoostRegressor\n",
    "\n",
    "ada_model = AdaBoostRegressor()\n",
    "ada_model.fit(df[Delta_features].iloc[df['Delta 15 N (o/oo)'].dropna().index]\n",
    "                               ,df['Delta 15 N (o/oo)'].iloc[df['Delta 15 N (o/oo)'].dropna().index])\n",
    "df['Delta 15 N (o/oo)'].iloc[np.where(df['Delta 15 N (o/oo)'].isnull()==True)] =  ada_model.predict(df[df['Delta 15 N (o/oo)'].isnull()][Delta_features])\n",
    "tst_df['Delta 15 N (o/oo)'].iloc[np.where(tst_df['Delta 15 N (o/oo)'].isnull()==True)] =  ada_model.predict(tst_df[tst_df['Delta 15 N (o/oo)'].isnull()][Delta_features])"
   ]
  },
  {
   "cell_type": "code",
   "execution_count": 552,
   "id": "073ba253",
   "metadata": {},
   "outputs": [],
   "source": [
    "# deltac\n",
    "from sklearn.linear_model import LinearRegression\n",
    "\n",
    "lr_model = LinearRegression()\n",
    "lr_model.fit(df[Delta_features].iloc[df['Delta 13 C (o/oo)'].dropna().index]\n",
    "                               ,df['Delta 13 C (o/oo)'].iloc[df['Delta 13 C (o/oo)'].dropna().index])\n",
    "df['Delta 13 C (o/oo)'].iloc[np.where(df['Delta 13 C (o/oo)'].isnull()==True)] =  lr_model.predict(df[df['Delta 13 C (o/oo)'].isnull()][Delta_features])\n",
    "tst_df['Delta 13 C (o/oo)'].iloc[np.where(tst_df['Delta 13 C (o/oo)'].isnull()==True)] =  lr_model.predict(tst_df[tst_df['Delta 13 C (o/oo)'].isnull()][Delta_features])"
   ]
  },
  {
   "cell_type": "code",
   "execution_count": null,
   "id": "14dbd6ac",
   "metadata": {},
   "outputs": [],
   "source": []
  },
  {
   "cell_type": "code",
   "execution_count": 553,
   "id": "52639560",
   "metadata": {},
   "outputs": [
    {
     "data": {
      "text/plain": [
       "id                                                   0\n",
       "Clutch Completion                                    0\n",
       "Culmen Length (mm)                                   0\n",
       "Culmen Depth (mm)                                    0\n",
       "Flipper Length (mm)                                  0\n",
       "Sex                                                  0\n",
       "Delta 15 N (o/oo)                                    0\n",
       "Delta 13 C (o/oo)                                    0\n",
       "Body Mass (g)                                        0\n",
       "Island_Biscoe                                        0\n",
       "Island_Dream                                         0\n",
       "Island_Torgersen                                     0\n",
       "Species_Adelie Penguin (Pygoscelis adeliae)          0\n",
       "Species_Chinstrap penguin (Pygoscelis antarctica)    0\n",
       "Species_Gentoo penguin (Pygoscelis papua)            0\n",
       "dtype: int64"
      ]
     },
     "execution_count": 553,
     "metadata": {},
     "output_type": "execute_result"
    }
   ],
   "source": [
    "# dfdf.dropna(inplace=True)\n",
    "df.isnull().sum()"
   ]
  },
  {
   "cell_type": "code",
   "execution_count": 554,
   "id": "9c2925b3",
   "metadata": {
    "scrolled": true
   },
   "outputs": [
    {
     "data": {
      "text/plain": [
       "id                                                   0\n",
       "Clutch Completion                                    0\n",
       "Culmen Length (mm)                                   0\n",
       "Culmen Depth (mm)                                    0\n",
       "Flipper Length (mm)                                  0\n",
       "Sex                                                  0\n",
       "Delta 15 N (o/oo)                                    0\n",
       "Delta 13 C (o/oo)                                    0\n",
       "Island_Biscoe                                        0\n",
       "Island_Dream                                         0\n",
       "Island_Torgersen                                     0\n",
       "Species_Adelie Penguin (Pygoscelis adeliae)          0\n",
       "Species_Chinstrap penguin (Pygoscelis antarctica)    0\n",
       "Species_Gentoo penguin (Pygoscelis papua)            0\n",
       "dtype: int64"
      ]
     },
     "execution_count": 554,
     "metadata": {},
     "output_type": "execute_result"
    }
   ],
   "source": [
    "tst_df.isnull().sum()"
   ]
  },
  {
   "cell_type": "code",
   "execution_count": 555,
   "id": "cca2e200",
   "metadata": {},
   "outputs": [],
   "source": [
    "df.drop(['Clutch Completion'],axis=1,inplace=True)\n",
    "tst_df.drop(['Clutch Completion'],axis=1,inplace=True)"
   ]
  },
  {
   "cell_type": "code",
   "execution_count": 556,
   "id": "241fe42c",
   "metadata": {},
   "outputs": [
    {
     "data": {
      "text/plain": [
       "Index(['id', 'Culmen Length (mm)', 'Culmen Depth (mm)', 'Flipper Length (mm)',\n",
       "       'Sex', 'Delta 15 N (o/oo)', 'Delta 13 C (o/oo)', 'Island_Biscoe',\n",
       "       'Island_Dream', 'Island_Torgersen',\n",
       "       'Species_Adelie Penguin (Pygoscelis adeliae)',\n",
       "       'Species_Chinstrap penguin (Pygoscelis antarctica)',\n",
       "       'Species_Gentoo penguin (Pygoscelis papua)'],\n",
       "      dtype='object')"
      ]
     },
     "execution_count": 556,
     "metadata": {},
     "output_type": "execute_result"
    }
   ],
   "source": [
    "tst_df.columns"
   ]
  },
  {
   "cell_type": "code",
   "execution_count": 557,
   "id": "80b608c9",
   "metadata": {},
   "outputs": [],
   "source": [
    "df.columns = [\"id\",'clength','cdepth','flength','sex','nrate','crate','g',\n",
    "                 'i_biscoe','i_dream','i_torgersen','s_adelie','s_chin','s_gentoo',]\n",
    "\n",
    "tst_df.columns= [\"id\",'clength','cdepth','flength','sex','nrate','crate',\n",
    "                 'i_biscoe','i_dream','i_torgersen','s_adelie','s_chin','s_gentoo',]"
   ]
  },
  {
   "cell_type": "markdown",
   "id": "1e26e2a7",
   "metadata": {},
   "source": [
    "# normalization"
   ]
  },
  {
   "cell_type": "code",
   "execution_count": 558,
   "id": "a42dab5c",
   "metadata": {},
   "outputs": [],
   "source": [
    "# df_normalization = df[['clength', 'cdepth', 'flength', 'sex', 'nrate', 'crate']]\n",
    "# tst_df_normalization = tst_df[['clength', 'cdepth', 'flength', 'sex', 'nrate', 'crate']]\n",
    "\n",
    "\n",
    "# mean= df_normalization.mean(axis=0)\n",
    "# df_normalization -= mean\n",
    "# std= df_normalization.std(axis=0)\n",
    "# df_normalization /= std\n",
    "\n",
    "# tst_df_normalization -=mean\n",
    "# tst_df_normalization /= std"
   ]
  },
  {
   "cell_type": "code",
   "execution_count": 559,
   "id": "79a56a9f",
   "metadata": {},
   "outputs": [],
   "source": [
    "# df.drop(['clength', 'cdepth', 'flength', 'sex', 'nrate', 'crate'],axis=1, inplace=True)\n",
    "# tst_df.drop(['clength', 'cdepth', 'flength', 'sex', 'nrate', 'crate'],axis=1, inplace=True)\n",
    "\n",
    "# df= pd.concat([df,df_normalization],axis=1)\n",
    "# tst_df= pd.concat([tst_df,tst_df_normalization],axis=1)"
   ]
  },
  {
   "cell_type": "code",
   "execution_count": 560,
   "id": "630ad503",
   "metadata": {},
   "outputs": [],
   "source": [
    "from sklearn.preprocessing import MinMaxScaler, PowerTransformer\n",
    "\n",
    "sc_cols = ['clength', 'cdepth', 'flength', 'nrate', 'crate']\n",
    "\n",
    "ptsc= PowerTransformer()\n",
    "\n",
    "def scaling_pt(df, col):\n",
    "    df[col] = ptsc.fit_transform(df[col])\n",
    "    return df\n",
    "\n",
    "\n",
    "# df = scaling_mm(df, sc_cols)\n",
    "df= scaling_pt(df, sc_cols)\n",
    "tst_df= scaling_pt(tst_df, sc_cols)\n"
   ]
  },
  {
   "cell_type": "code",
   "execution_count": null,
   "id": "f31a9de7",
   "metadata": {},
   "outputs": [],
   "source": []
  },
  {
   "cell_type": "code",
   "execution_count": null,
   "id": "b7edffac",
   "metadata": {},
   "outputs": [],
   "source": []
  },
  {
   "cell_type": "code",
   "execution_count": null,
   "id": "1997bf2a",
   "metadata": {},
   "outputs": [],
   "source": []
  },
  {
   "cell_type": "markdown",
   "id": "6dc06e2d",
   "metadata": {},
   "source": [
    "# predict"
   ]
  },
  {
   "cell_type": "code",
   "execution_count": 561,
   "id": "37ad863d",
   "metadata": {},
   "outputs": [],
   "source": [
    "X =df[['clength','cdepth','flength','sex','nrate','crate',\n",
    "                 'i_biscoe','i_dream','i_torgersen','s_adelie','s_chin','s_gentoo',]]\n",
    "Y= df[['g']]"
   ]
  },
  {
   "cell_type": "code",
   "execution_count": 562,
   "id": "0cb75c0a",
   "metadata": {},
   "outputs": [],
   "source": [
    "from sklearn.model_selection import train_test_split\n",
    "seed=151\n",
    "x_train, x_val, y_train, y_val = train_test_split(X,Y,test_size=0.2,random_state=seed)"
   ]
  },
  {
   "cell_type": "code",
   "execution_count": 563,
   "id": "a26e9ce3",
   "metadata": {},
   "outputs": [],
   "source": [
    "def get_model_cv_prediction(model, X_data, y_target):\n",
    "    neg_mse_scores = cross_val_score(model, X_data, y_target, scoring=\"neg_mean_squared_error\", cv = 5)\n",
    "    rmse_scores  = np.sqrt(-1 * neg_mse_scores)\n",
    "    avg_rmse = np.mean(rmse_scores)\n",
    "    print('##### ',model.__class__.__name__ , ' #####')\n",
    "    print(' 5 교차 검증의 평균 RMSE : {0:.3f} '.format(avg_rmse))"
   ]
  },
  {
   "cell_type": "markdown",
   "id": "dc7af97e",
   "metadata": {},
   "source": [
    "### LinearRegression"
   ]
  },
  {
   "cell_type": "code",
   "execution_count": 564,
   "id": "b99ef6ee",
   "metadata": {},
   "outputs": [
    {
     "data": {
      "text/plain": [
       "LinearRegression()"
      ]
     },
     "execution_count": 564,
     "metadata": {},
     "output_type": "execute_result"
    }
   ],
   "source": [
    "from sklearn.linear_model import LinearRegression\n",
    "from sklearn.model_selection import cross_val_score\n",
    "\n",
    "\n",
    "reg = LinearRegression()\n",
    "reg.fit(x_train,y_train)\n"
   ]
  },
  {
   "cell_type": "markdown",
   "id": "5a9a82a7",
   "metadata": {},
   "source": [
    "### Ridge/ Lasso\n"
   ]
  },
  {
   "cell_type": "code",
   "execution_count": 579,
   "id": "2f126f17",
   "metadata": {},
   "outputs": [
    {
     "data": {
      "text/plain": [
       "Lasso(alpha=10)"
      ]
     },
     "execution_count": 579,
     "metadata": {},
     "output_type": "execute_result"
    }
   ],
   "source": [
    "from sklearn.linear_model import Ridge , Lasso\n",
    "\n",
    "ridge_reg = Ridge(alpha=10)\n",
    "ridge_reg.fit(x_train, y_train)\n",
    "\n",
    "lasso_reg = Lasso(alpha=10)\n",
    "lasso_reg.fit(x_train, y_train)\n",
    "\n",
    "\n",
    "# ridge_reg = Ridge(alpha=10)\n",
    "# ridge_reg.fit(x_train, y_train)\n",
    "\n",
    "# lasso_reg = Lasso(alpha=0.01)\n",
    "# lasso_reg.fit(x_train, y_train)\n",
    "\n",
    "# ridge_reg = Ridge(alpha=0.5)\n",
    "# ridge_reg.fit(x_train, y_train)\n",
    "\n",
    "# lasso_reg = Lasso(alpha=0.01)\n",
    "# lasso_reg.fit(x_train, y_train)\n"
   ]
  },
  {
   "cell_type": "markdown",
   "id": "c9f03947",
   "metadata": {},
   "source": [
    "# tst_df 예측"
   ]
  },
  {
   "cell_type": "code",
   "execution_count": 580,
   "id": "44e5562b",
   "metadata": {},
   "outputs": [
    {
     "name": "stdout",
     "output_type": "stream",
     "text": [
      "Linear - RMSE for test data:  234.02120076639534\n",
      "Ridge - RMSE for test data:  254.79946923619136\n",
      "Lasso - RMSE for test data:  231.04258006091118\n"
     ]
    }
   ],
   "source": [
    "from sklearn.metrics import mean_squared_error\n",
    "\n",
    "lr_pred = reg.predict(x_val)\n",
    "ridge_pred = ridge_reg.predict(x_val)\n",
    "lasso_pred = lasso_reg.predict(x_val)\n",
    "\n",
    "\n",
    "print('Linear - RMSE for test data: ', np.sqrt(mean_squared_error(y_val, lr_pred)))\n",
    "print('Ridge - RMSE for test data: ', np.sqrt(mean_squared_error(y_val, ridge_pred)))\n",
    "print('Lasso - RMSE for test data: ', np.sqrt(mean_squared_error(y_val, lasso_pred)))\n",
    "\n",
    "\n"
   ]
  },
  {
   "cell_type": "code",
   "execution_count": 581,
   "id": "4fd301c3",
   "metadata": {},
   "outputs": [],
   "source": [
    "# Linear - RMSE for test data:  234.4772285937421\n",
    "# Ridge - RMSE for test data:  254.83705635163722\n",
    "# Lasso - RMSE for test data:  231.04765551288085"
   ]
  },
  {
   "cell_type": "markdown",
   "id": "9b16edf8",
   "metadata": {},
   "source": [
    "- Voting은 여러 알고리즘의 조합에 대한 앙상블\n",
    "- Bagging은 하나의 단일 알고리즘에 대하여 여러 개의 샘플 조합으로 앙상블1"
   ]
  },
  {
   "cell_type": "code",
   "execution_count": 582,
   "id": "a70f7658",
   "metadata": {
    "scrolled": true
   },
   "outputs": [
    {
     "name": "stdout",
     "output_type": "stream",
     "text": [
      "ensemble Voting - RMSE for test data:  229.55954573786715\n"
     ]
    }
   ],
   "source": [
    "# ensemble\n",
    "from sklearn.ensemble import VotingRegressor\n",
    "\n",
    "# single_models = [\n",
    "#     ('reg', reg), \n",
    "#     ('ridge', ridge_reg), \n",
    "#     ('lasso', lasso_reg)]\n",
    "\n",
    "single_models = [\n",
    "    ('reg', reg), \n",
    "    ('lasso', lasso_reg)]\n",
    "\n",
    "voting_regressor = VotingRegressor(single_models, n_jobs=-1)\n",
    "voting_regressor.fit(x_train, y_train)\n",
    "\n",
    "voting_pred = voting_regressor.predict(x_val)\n",
    "print('ensemble Voting - RMSE for test data: ', np.sqrt(mean_squared_error(y_val, voting_pred)))\n"
   ]
  },
  {
   "cell_type": "markdown",
   "id": "f0b86c50",
   "metadata": {},
   "source": [
    "#### error 얼마나 나는지 확인"
   ]
  },
  {
   "cell_type": "code",
   "execution_count": 593,
   "id": "7f3e890e",
   "metadata": {},
   "outputs": [],
   "source": [
    "y_val.reset_index(inplace=True)\n",
    "y_val.drop(['index'],axis=1,inplace=True)"
   ]
  },
  {
   "cell_type": "code",
   "execution_count": 594,
   "id": "00f100bf",
   "metadata": {},
   "outputs": [],
   "source": [
    "pred= pd.DataFrame(voting_pred, columns=['pred'])"
   ]
  },
  {
   "cell_type": "code",
   "execution_count": 595,
   "id": "e9555ff9",
   "metadata": {},
   "outputs": [],
   "source": [
    "error_df= pd.concat([y_val,pred],axis=1)\n"
   ]
  },
  {
   "cell_type": "code",
   "execution_count": 596,
   "id": "ed39d451",
   "metadata": {},
   "outputs": [],
   "source": [
    "error_df['error']= error_df['pred']-error_df['g']"
   ]
  },
  {
   "cell_type": "code",
   "execution_count": 597,
   "id": "38933e5f",
   "metadata": {},
   "outputs": [
    {
     "data": {
      "text/html": [
       "<div>\n",
       "<style scoped>\n",
       "    .dataframe tbody tr th:only-of-type {\n",
       "        vertical-align: middle;\n",
       "    }\n",
       "\n",
       "    .dataframe tbody tr th {\n",
       "        vertical-align: top;\n",
       "    }\n",
       "\n",
       "    .dataframe thead th {\n",
       "        text-align: right;\n",
       "    }\n",
       "</style>\n",
       "<table border=\"1\" class=\"dataframe\">\n",
       "  <thead>\n",
       "    <tr style=\"text-align: right;\">\n",
       "      <th></th>\n",
       "      <th>g</th>\n",
       "      <th>pred</th>\n",
       "      <th>error</th>\n",
       "    </tr>\n",
       "  </thead>\n",
       "  <tbody>\n",
       "    <tr>\n",
       "      <th>0</th>\n",
       "      <td>5000</td>\n",
       "      <td>5222.403206</td>\n",
       "      <td>222.403206</td>\n",
       "    </tr>\n",
       "    <tr>\n",
       "      <th>1</th>\n",
       "      <td>3775</td>\n",
       "      <td>3644.985449</td>\n",
       "      <td>-130.014551</td>\n",
       "    </tr>\n",
       "    <tr>\n",
       "      <th>2</th>\n",
       "      <td>4725</td>\n",
       "      <td>4273.936929</td>\n",
       "      <td>-451.063071</td>\n",
       "    </tr>\n",
       "    <tr>\n",
       "      <th>3</th>\n",
       "      <td>4850</td>\n",
       "      <td>4636.336967</td>\n",
       "      <td>-213.663033</td>\n",
       "    </tr>\n",
       "    <tr>\n",
       "      <th>4</th>\n",
       "      <td>3450</td>\n",
       "      <td>3437.288417</td>\n",
       "      <td>-12.711583</td>\n",
       "    </tr>\n",
       "    <tr>\n",
       "      <th>5</th>\n",
       "      <td>4900</td>\n",
       "      <td>4704.593253</td>\n",
       "      <td>-195.406747</td>\n",
       "    </tr>\n",
       "    <tr>\n",
       "      <th>6</th>\n",
       "      <td>3725</td>\n",
       "      <td>4032.666231</td>\n",
       "      <td>307.666231</td>\n",
       "    </tr>\n",
       "    <tr>\n",
       "      <th>7</th>\n",
       "      <td>4575</td>\n",
       "      <td>4585.403113</td>\n",
       "      <td>10.403113</td>\n",
       "    </tr>\n",
       "    <tr>\n",
       "      <th>8</th>\n",
       "      <td>5650</td>\n",
       "      <td>5514.591429</td>\n",
       "      <td>-135.408571</td>\n",
       "    </tr>\n",
       "    <tr>\n",
       "      <th>9</th>\n",
       "      <td>4250</td>\n",
       "      <td>4011.312766</td>\n",
       "      <td>-238.687234</td>\n",
       "    </tr>\n",
       "    <tr>\n",
       "      <th>10</th>\n",
       "      <td>3400</td>\n",
       "      <td>3415.705984</td>\n",
       "      <td>15.705984</td>\n",
       "    </tr>\n",
       "    <tr>\n",
       "      <th>11</th>\n",
       "      <td>3600</td>\n",
       "      <td>3533.055151</td>\n",
       "      <td>-66.944849</td>\n",
       "    </tr>\n",
       "    <tr>\n",
       "      <th>12</th>\n",
       "      <td>3800</td>\n",
       "      <td>3522.987331</td>\n",
       "      <td>-277.012669</td>\n",
       "    </tr>\n",
       "    <tr>\n",
       "      <th>13</th>\n",
       "      <td>3350</td>\n",
       "      <td>3641.226936</td>\n",
       "      <td>291.226936</td>\n",
       "    </tr>\n",
       "    <tr>\n",
       "      <th>14</th>\n",
       "      <td>3000</td>\n",
       "      <td>3424.188399</td>\n",
       "      <td>424.188399</td>\n",
       "    </tr>\n",
       "    <tr>\n",
       "      <th>15</th>\n",
       "      <td>3900</td>\n",
       "      <td>3744.701971</td>\n",
       "      <td>-155.298029</td>\n",
       "    </tr>\n",
       "    <tr>\n",
       "      <th>16</th>\n",
       "      <td>4250</td>\n",
       "      <td>4013.335493</td>\n",
       "      <td>-236.664507</td>\n",
       "    </tr>\n",
       "    <tr>\n",
       "      <th>17</th>\n",
       "      <td>3800</td>\n",
       "      <td>4122.999486</td>\n",
       "      <td>322.999486</td>\n",
       "    </tr>\n",
       "    <tr>\n",
       "      <th>18</th>\n",
       "      <td>3950</td>\n",
       "      <td>4184.976691</td>\n",
       "      <td>234.976691</td>\n",
       "    </tr>\n",
       "    <tr>\n",
       "      <th>19</th>\n",
       "      <td>5600</td>\n",
       "      <td>5485.607611</td>\n",
       "      <td>-114.392389</td>\n",
       "    </tr>\n",
       "    <tr>\n",
       "      <th>20</th>\n",
       "      <td>4050</td>\n",
       "      <td>4107.174112</td>\n",
       "      <td>57.174112</td>\n",
       "    </tr>\n",
       "    <tr>\n",
       "      <th>21</th>\n",
       "      <td>3275</td>\n",
       "      <td>3562.854454</td>\n",
       "      <td>287.854454</td>\n",
       "    </tr>\n",
       "    <tr>\n",
       "      <th>22</th>\n",
       "      <td>3675</td>\n",
       "      <td>3619.770405</td>\n",
       "      <td>-55.229595</td>\n",
       "    </tr>\n",
       "  </tbody>\n",
       "</table>\n",
       "</div>"
      ],
      "text/plain": [
       "       g         pred       error\n",
       "0   5000  5222.403206  222.403206\n",
       "1   3775  3644.985449 -130.014551\n",
       "2   4725  4273.936929 -451.063071\n",
       "3   4850  4636.336967 -213.663033\n",
       "4   3450  3437.288417  -12.711583\n",
       "5   4900  4704.593253 -195.406747\n",
       "6   3725  4032.666231  307.666231\n",
       "7   4575  4585.403113   10.403113\n",
       "8   5650  5514.591429 -135.408571\n",
       "9   4250  4011.312766 -238.687234\n",
       "10  3400  3415.705984   15.705984\n",
       "11  3600  3533.055151  -66.944849\n",
       "12  3800  3522.987331 -277.012669\n",
       "13  3350  3641.226936  291.226936\n",
       "14  3000  3424.188399  424.188399\n",
       "15  3900  3744.701971 -155.298029\n",
       "16  4250  4013.335493 -236.664507\n",
       "17  3800  4122.999486  322.999486\n",
       "18  3950  4184.976691  234.976691\n",
       "19  5600  5485.607611 -114.392389\n",
       "20  4050  4107.174112   57.174112\n",
       "21  3275  3562.854454  287.854454\n",
       "22  3675  3619.770405  -55.229595"
      ]
     },
     "execution_count": 597,
     "metadata": {},
     "output_type": "execute_result"
    }
   ],
   "source": [
    "error_df"
   ]
  },
  {
   "cell_type": "code",
   "execution_count": 598,
   "id": "dc104182",
   "metadata": {
    "scrolled": false
   },
   "outputs": [
    {
     "data": {
      "text/plain": [
       "193.78675823392769"
      ]
     },
     "execution_count": 598,
     "metadata": {},
     "output_type": "execute_result"
    }
   ],
   "source": [
    "abs(error_df['error']).mean()"
   ]
  },
  {
   "cell_type": "code",
   "execution_count": 599,
   "id": "c1c8c05f",
   "metadata": {},
   "outputs": [
    {
     "data": {
      "image/png": "[encoded data removed]",
      "text/plain": [
       "<Figure size 720x360 with 1 Axes>"
      ]
     },
     "metadata": {},
     "output_type": "display_data"
    }
   ],
   "source": [
    "fig = plt.figure(facecolor='white', figsize=(10, 5))\n",
    "ax = fig.add_subplot(111)\n",
    "ax.plot(y_val, label='Real_g')\n",
    "ax.plot(pred, label='Predicted_g')\n",
    "ax.plot(error_df[['error']], label='error')\n",
    "ax.legend()\n",
    "plt.show()"
   ]
  },
  {
   "cell_type": "code",
   "execution_count": 587,
   "id": "0e70fdaa",
   "metadata": {},
   "outputs": [],
   "source": [
    "X =tst_df[['clength','cdepth','flength','sex','nrate','crate',\n",
    "                 'i_biscoe','i_dream','i_torgersen','s_adelie','s_chin','s_gentoo',]]"
   ]
  },
  {
   "cell_type": "code",
   "execution_count": 588,
   "id": "d3109f1f",
   "metadata": {},
   "outputs": [],
   "source": [
    "pred = voting_regressor.predict(X)\n",
    "\n",
    "tst_df['Body Mass (g)'] = pred"
   ]
  },
  {
   "cell_type": "code",
   "execution_count": 589,
   "id": "4f704850",
   "metadata": {},
   "outputs": [],
   "source": [
    "test= tst_df[['id','Body Mass (g)']]"
   ]
  },
  {
   "cell_type": "code",
   "execution_count": 591,
   "id": "504e55fc",
   "metadata": {},
   "outputs": [],
   "source": [
    "test.head()"
   ]
  },
  {
   "cell_type": "code",
   "execution_count": 327,
   "id": "82bd0d81",
   "metadata": {},
   "outputs": [],
   "source": [
    "test.to_csv('dataset/predicted_test_11.csv',index=False)"
   ]
  },
  {
   "cell_type": "code",
   "execution_count": null,
   "id": "72b281d7",
   "metadata": {},
   "outputs": [],
   "source": []
  }
 ],
 "metadata": {
  "kernelspec": {
   "display_name": "Python 3",
   "language": "python",
   "name": "python3"
  },
  "language_info": {
   "codemirror_mode": {
    "name": "ipython",
    "version": 3
   },
   "file_extension": ".py",
   "mimetype": "text/x-python",
   "name": "python",
   "nbconvert_exporter": "python",
   "pygments_lexer": "ipython3",
   "version": "3.8.8"
  }
 },
 "nbformat": 4,
 "nbformat_minor": 5
}
