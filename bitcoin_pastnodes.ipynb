{
 "cells": [
  {
   "cell_type": "code",
   "execution_count": null,
   "id": "418bac2f",
   "metadata": {},
   "outputs": [],
   "source": [
    "# http://bitnodes.io/\n",
    "# 과거 노드 수 관찰"
   ]
  },
  {
   "cell_type": "code",
   "execution_count": 2,
   "id": "0f404cb9",
   "metadata": {},
   "outputs": [
    {
     "name": "stdout",
     "output_type": "stream",
     "text": [
      "status code:  200\n"
     ]
    }
   ],
   "source": [
    "import requests\n",
    "\n",
    "url = 'http://naver.com'\n",
    "response= requests.get(url)\n",
    "\n",
    "print(\"status code: \",response.status_code)"
   ]
  },
  {
   "cell_type": "code",
   "execution_count": 3,
   "id": "a79c8cbd",
   "metadata": {},
   "outputs": [
    {
     "name": "stdout",
     "output_type": "stream",
     "text": [
      "페이지 1 로드\n",
      "페이지 2 로드\n",
      "페이지 3 로드\n",
      "페이지 4 로드\n",
      "페이지 5 로드\n",
      "페이지 6 로드\n",
      "페이지 7 로드\n",
      "페이지 8 로드\n",
      "페이지 9 로드\n",
      "페이지 10 로드\n",
      "페이지 11 로드\n",
      "페이지 12 로드\n",
      "페이지 13 로드\n",
      "페이지 14 로드\n",
      "페이지 15 로드\n",
      "페이지 16 로드\n",
      "페이지 17 로드\n",
      "페이지 18 로드\n",
      "페이지 19 로드\n",
      "페이지 20 로드\n",
      "페이지 21 로드\n",
      "페이지 22 로드\n",
      "페이지 23 로드\n",
      "페이지 24 로드\n",
      "페이지 25 로드\n",
      "페이지 26 로드\n",
      "페이지 27 로드\n",
      "페이지 28 로드\n",
      "페이지 29 로드\n",
      "페이지 30 로드\n",
      "페이지 31 로드\n",
      "페이지 32 로드\n",
      "페이지 33 로드\n",
      "페이지 34 로드\n",
      "페이지 35 로드\n",
      "페이지 36 로드\n",
      "페이지 37 로드\n",
      "페이지 38 로드\n",
      "페이지 39 로드\n",
      "페이지 40 로드\n",
      "페이지 41 로드\n",
      "페이지 42 로드\n",
      "페이지 43 로드\n",
      "페이지 44 로드\n",
      "페이지 45 로드\n",
      "페이지 46 로드\n",
      "페이지 47 로드\n",
      "페이지 48 로드\n",
      "페이지 49 로드\n"
     ]
    },
    {
     "data": {
      "image/png": "[encoded data removed]",
      "text/plain": [
       "<Figure size 576x432 with 1 Axes>"
      ]
     },
     "metadata": {
      "needs_background": "light"
     },
     "output_type": "display_data"
    }
   ],
   "source": [
    "import requests\n",
    "import time \n",
    "import matplotlib.pyplot as plt\n",
    "\n",
    "# 50p 까지만 조회. 과거 약 30일정도 해당\n",
    "np= 50\n",
    "t= []\n",
    "n=[]\n",
    "\n",
    "for p in range(1,np):\n",
    "    # 페이지당 100개씩 요청 (max=100)\n",
    "    url= 'https://bitnodes.earn.com/api/v1/snapshots/?limit=100&page=' + str(p)\n",
    "    resp= requests.get(url=url)\n",
    "    data= resp.json()\n",
    "    print(\"페이지 %d 로드\" %p)\n",
    "    \n",
    "    for i in range(len(data['results'])):\n",
    "        ts= time.gmtime(data['results'][i]['timestamp'])\n",
    "        t.append(time.strftime('%Y-%m-%d %H:%M:%S', ts))\n",
    "        n.append(data['results'][i]['total_nodes'])\n",
    "        \n",
    "t= t[::-1]\n",
    "n= n[::-1]\n",
    "\n",
    "# 최근 노드수 차트 생성\n",
    "plt.figure(figsize=(8,6))\n",
    "plt.plot(n,color='Red', linewidth=0.7)\n",
    "plt.title('Nodes\\n' + t[0] + '~' + t[-1])\n",
    "plt.grid(color='green', alpha=0.3)\n",
    "plt.show()"
   ]
  },
  {
   "cell_type": "code",
   "execution_count": null,
   "id": "353d1c2c",
   "metadata": {},
   "outputs": [],
   "source": []
  },
  {
   "cell_type": "code",
   "execution_count": null,
   "id": "c609d5c9",
   "metadata": {},
   "outputs": [],
   "source": []
  },
  {
   "cell_type": "code",
   "execution_count": null,
   "id": "7eacf4a5",
   "metadata": {},
   "outputs": [],
   "source": []
  },
  {
   "cell_type": "code",
   "execution_count": null,
   "id": "97dd02ea",
   "metadata": {},
   "outputs": [],
   "source": []
  },
  {
   "cell_type": "code",
   "execution_count": null,
   "id": "4d92de0e",
   "metadata": {},
   "outputs": [],
   "source": []
  }
 ],
 "metadata": {
  "kernelspec": {
   "display_name": "Python 3",
   "language": "python",
   "name": "python3"
  },
  "language_info": {
   "codemirror_mode": {
    "name": "ipython",
    "version": 3
   },
   "file_extension": ".py",
   "mimetype": "text/x-python",
   "name": "python",
   "nbconvert_exporter": "python",
   "pygments_lexer": "ipython3",
   "version": "3.8.8"
  }
 },
 "nbformat": 4,
 "nbformat_minor": 5
}
