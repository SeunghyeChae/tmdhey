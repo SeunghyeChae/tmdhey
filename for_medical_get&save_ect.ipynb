{
  "nbformat": 4,
  "nbformat_minor": 0,
  "metadata": {
    "colab": {
      "name": "get_dcm.ipynb",
      "provenance": [],
      "collapsed_sections": [
        "PdgkfmAjmIed"
      ],
      "authorship_tag": "ABX9TyPaADR+iWBqUObBhSdxIHZJ",
      "include_colab_link": true
    },
    "kernelspec": {
      "name": "python3",
      "display_name": "Python 3"
    },
    "language_info": {
      "name": "python"
    },
    "accelerator": "GPU"
  },
  "cells": [
    {
      "cell_type": "markdown",
      "metadata": {
        "id": "view-in-github",
        "colab_type": "text"
      },
      "source": [
        "<a href=\"https://colab.research.google.com/github/SeunghyeChae/tmdhey/blob/main/for_medical_get%26save_ect.ipynb\" target=\"_parent\"><img src=\"https://colab.research.google.com/assets/colab-badge.svg\" alt=\"Open In Colab\"/></a>"
      ]
    },
    {
      "cell_type": "markdown",
      "source": [
        "# mount/ install/ import"
      ],
      "metadata": {
        "id": "PdgkfmAjmIed"
      }
    },
    {
      "cell_type": "code",
      "source": [
        "from google.colab import drive\n",
        "drive.mount('/content/drive')"
      ],
      "metadata": {
        "colab": {
          "base_uri": "https://localhost:8080/"
        },
        "id": "yja-SSVNlmY5",
        "outputId": "a07276dc-abb6-4c1d-9ac3-55d1fa49b2db"
      },
      "execution_count": null,
      "outputs": [
        {
          "output_type": "stream",
          "name": "stdout",
          "text": [
            "Drive already mounted at /content/drive; to attempt to forcibly remount, call drive.mount(\"/content/drive\", force_remount=True).\n"
          ]
        }
      ]
    },
    {
      "cell_type": "code",
      "source": [
        "!pip install pydicom\n",
        "!pip install SimpleITK"
      ],
      "metadata": {
        "colab": {
          "base_uri": "https://localhost:8080/"
        },
        "id": "6t8bGOaJmObw",
        "outputId": "2cf6897d-f2dd-40ce-fcbc-6af803764c53"
      },
      "execution_count": null,
      "outputs": [
        {
          "output_type": "stream",
          "name": "stdout",
          "text": [
            "Collecting pydicom\n",
            "  Downloading pydicom-2.2.2-py3-none-any.whl (2.0 MB)\n",
            "\u001b[K     |████████████████████████████████| 2.0 MB 16.0 MB/s \n",
            "\u001b[?25hInstalling collected packages: pydicom\n",
            "Successfully installed pydicom-2.2.2\n",
            "Collecting SimpleITK\n",
            "  Downloading SimpleITK-2.1.1-cp37-cp37m-manylinux_2_12_x86_64.manylinux2010_x86_64.whl (48.4 MB)\n",
            "\u001b[K     |████████████████████████████████| 48.4 MB 2.0 MB/s \n",
            "\u001b[?25hInstalling collected packages: SimpleITK\n",
            "Successfully installed SimpleITK-2.1.1\n"
          ]
        }
      ]
    },
    {
      "cell_type": "code",
      "source": [
        "import numpy as np\n",
        "import SimpleITK as sitk\n",
        "import pydicom\n",
        "import matplotlib.pyplot as plt\n"
      ],
      "metadata": {
        "id": "foImVaUxmBj5"
      },
      "execution_count": 33,
      "outputs": []
    },
    {
      "cell_type": "markdown",
      "source": [
        "# get array / save dcm\n",
        "### (nii 3d 저장 / dcm 슬라이스 생성): itk snap에서 영상 뜨는 것 확인했음"
      ],
      "metadata": {
        "id": "bdIupYKcmPim"
      }
    },
    {
      "cell_type": "code",
      "source": [
        "org= mhd경로"
      ],
      "metadata": {
        "id": "hLeB-66ZGcNw"
      },
      "execution_count": null,
      "outputs": []
    },
    {
      "cell_type": "code",
      "source": [
        "reader=sitk.ImageFileReader()\n",
        "reader.SetFileName(org)\n",
        "img=reader.Execute()\n",
        "array=sitk.GetArrayFromImage(img)\n",
        "# array=sitk.GetArrayViewFromImage(img)\n",
        "# array"
      ],
      "metadata": {
        "id": "wL2gPZT8lvx_"
      },
      "execution_count": 25,
      "outputs": []
    },
    {
      "cell_type": "code",
      "source": [
        "plt.imshow(array[120,:,:])"
      ],
      "metadata": {
        "id": "--Qm1J5z3-yo"
      },
      "execution_count": 74,
      "outputs": []
    },
    {
      "cell_type": "code",
      "source": [
        "# 이건 바로 됨..! nii 3d 저장\n",
        "Image = sitk.ReadImage(org)\n",
        "sitk.WriteImage(Image, 'd.nii')"
      ],
      "metadata": {
        "id": "ebHHkpGN5wiV"
      },
      "execution_count": 47,
      "outputs": []
    },
    {
      "cell_type": "code",
      "source": [
        "imgClass = sitk.GetImageFromArray(array)\n",
        "sitk.WriteImage(imgClass, 'd.nii.gz')"
      ],
      "metadata": {
        "id": "mA6JQ-yt47Em"
      },
      "execution_count": null,
      "outputs": []
    },
    {
      "cell_type": "code",
      "source": [
        "def crop4(path, filename):\n",
        "    file_name, d = os.path.splitext(filename)\n",
        "    img = sitk.ReadImage(os.path.join(path, filename))\n",
        "    imgarray = sitk.GetArrayFromImage(img)[0]\n",
        "    w = int(imgarray.shape[0]/2)\n",
        "    h = int(imgarray.shape[1]/2)\n",
        "#左上\n",
        "    new1 = imgarray[0:w, 0:h]\n",
        "    new1 = new1[np.newaxis, :]\n",
        "    out1 = sitk.GetImageFromArray(new1)\n",
        "    result1 = os.path.join(path, file_name+'_1.dcm')\n",
        "    sitk.WriteImage(out1, result1)"
      ],
      "metadata": {
        "id": "LnXTxDIv9Jgc"
      },
      "execution_count": null,
      "outputs": []
    },
    {
      "cell_type": "code",
      "source": [
        "# mhd to dcm\n",
        "\n",
        "img = sitk.ReadImage(org)\n",
        "imgarray = sitk.GetArrayFromImage(img)[0]\n",
        "w = int(imgarray.shape[0])\n",
        "h = int(imgarray.shape[1])\n",
        "\n",
        "new1 = imgarray[0:w, 0:h]\n",
        "new1 = new1[np.newaxis, :]\n",
        "out1 = sitk.GetImageFromArray(new1)\n",
        "result1 = '_1.dcm'\n",
        "sitk.WriteImage(out1, result1)"
      ],
      "metadata": {
        "id": "eP65wG6t9JeR"
      },
      "execution_count": 53,
      "outputs": []
    },
    {
      "cell_type": "code",
      "source": [
        "# imgarray가 array에 저장된 값이고\n",
        "# img array로 바꾸면 121개의 슬라이스가 생김\n",
        "# for imgarray ~~~ [0부터 120까지 해야댐]\n",
        "\n",
        "imgarray.shape"
      ],
      "metadata": {
        "colab": {
          "base_uri": "https://localhost:8080/"
        },
        "id": "8BJkHVyu9JW9",
        "outputId": "162f744d-239b-40e9-d8f0-bc681aed671f"
      },
      "execution_count": 64,
      "outputs": [
        {
          "output_type": "execute_result",
          "data": {
            "text/plain": [
              "(512, 512)"
            ]
          },
          "metadata": {},
          "execution_count": 64
        }
      ]
    },
    {
      "cell_type": "code",
      "source": [
        "sitk.GetArrayFromImage(img)[120]"
      ],
      "metadata": {
        "colab": {
          "base_uri": "https://localhost:8080/"
        },
        "id": "i9mbMg_d47B7",
        "outputId": "dcea1f9a-e593-452e-da48-8e8aea7ba5c0"
      },
      "execution_count": 71,
      "outputs": [
        {
          "output_type": "execute_result",
          "data": {
            "text/plain": [
              "array([[-3024, -3024, -3024, ..., -3024, -3024, -3024],\n",
              "       [-3024, -3024, -3024, ..., -3024, -3024, -3024],\n",
              "       [-3024, -3024, -3024, ..., -3024, -3024, -3024],\n",
              "       ...,\n",
              "       [-3024, -3024, -3024, ..., -3024, -3024, -3024],\n",
              "       [-3024, -3024, -3024, ..., -3024, -3024, -3024],\n",
              "       [-3024, -3024, -3024, ..., -3024, -3024, -3024]], dtype=int16)"
            ]
          },
          "metadata": {},
          "execution_count": 71
        }
      ]
    },
    {
      "cell_type": "markdown",
      "source": [
        "# ----- 이 위까지가 필요한 것 -----  \n"
      ],
      "metadata": {
        "id": "pObcCu4tAc39"
      }
    },
    {
      "cell_type": "markdown",
      "source": [
        "# sorting"
      ],
      "metadata": {
        "id": "tWyp27sjG8mT"
      }
    },
    {
      "cell_type": "markdown",
      "source": [
        "파일 번호 순서대로 픽셀 어레이를 쌓으면 안된다. 나는 처음에 번호 순서대로 쌓았다가 위치순서가 엉망진창임을 몸소 확인했다ㅠㅠ dcm파일을 읽은 후 InstanceNumber를 뽑아 sort한 후 쌓도록 하자.\n",
        "\n",
        "https://jayeon8282.tistory.com/2"
      ],
      "metadata": {
        "id": "1ZuoYNtaDUg1"
      }
    },
    {
      "cell_type": "code",
      "source": [
        "from glob import glob\n",
        "import os\n",
        "import numpy as np\n",
        "import pydicom\n",
        "import skimage.external.tifffile import imsave, imread, imshow\n",
        "\n",
        "dicom_dir = '경 로'\n",
        "\n",
        "dcm_files = glob(os.path.join(dicom_dir, '*.dcm'))\n",
        "dcm_files = [pydicom.dcmread(s) for s in dcm_files]\n",
        "\n",
        "dcm_files.sort(key = lambda x : int(x.InstanceNumber))\n",
        "\n",
        "dsRef = dcm_files[0]"
      ],
      "metadata": {
        "id": "NrUMjt7QAcc7"
      },
      "execution_count": null,
      "outputs": []
    },
    {
      "cell_type": "markdown",
      "source": [
        "dcm 파일을 읽으면, 그 안에 많은 key들이 있다. dimension(key : Rows, Columns) 정보 뿐만 아니라, ct vendor사, pixel간 거리(key : PixelSpacing, SliceThickness), pixel array 등이 있으니 필요한 정보가 있으면 key를 뽑아본 후 정보를 확인해 보는 것도 좋은 방법이다."
      ],
      "metadata": {
        "id": "JoFSGD8uFtP3"
      }
    },
    {
      "cell_type": "code",
      "source": [
        "\"\"\"\n",
        "see all keys in dicom files\n",
        "\"\"\"\n",
        "\n",
        "print(dsRef)\n",
        "print(dsRef.ImageType)\n",
        "\n",
        "for key in dsRef.__dir__():\n",
        "\tprint(key)\n",
        "    print(key, dsRef.data_element(key))\n",
        "   \n",
        "\n",
        "\"\"\"\n",
        "get dimension and thickness information from the dicom file\n",
        "\"\"\"\n",
        "\n",
        "dims = (len(dcm_files), int(dsRef.Rows), int(dsRef.Columns))\n",
        "print('dims(z,x,y) : ', dims)\n",
        "\n",
        "spacing = (float(dsRef.SliceThickness), float(dsRef.PixelSpacing[0]), float(dsRef.PixelSpacing[1]))\n",
        "print('thickness(z,x,y) : ', spacing)"
      ],
      "metadata": {
        "id": "9fi9J7wUFmKJ"
      },
      "execution_count": null,
      "outputs": []
    },
    {
      "cell_type": "markdown",
      "source": [
        "이제 dimension정보를 얻었으니 sort한 dicom_files를 토대로 pixel_array값을 불러오도록 하자. "
      ],
      "metadata": {
        "id": "SeB-HcdGF13h"
      }
    },
    {
      "cell_type": "code",
      "source": [
        "recon_ct = np.zeros(dims, dtype = dsRef.pixel_array.dtype)\n",
        "\n",
        "for i, df in enumerate(dicom_files):\n",
        "\ttry : \n",
        "    \trecon_ct[i,:,:] = df.pixel_array\n",
        "    except : \n",
        "    \tprint(str(i+1).zfill(5) + '.dcm', '**pixel_array_shape Error')"
      ],
      "metadata": {
        "id": "-2UpEzG7Fl4t"
      },
      "execution_count": null,
      "outputs": []
    },
    {
      "cell_type": "markdown",
      "source": [
        "CT영상을 처리하기 위해서는 Hounsfield Units(HU)이 무엇인지 알아야 한다. 이는 X선이 몸을 투과할 때 부위별 흡수정도를 표시한 지표로 CT number라고 부르기도 한다. 물을 0으로 고정하였을 때의 상대적인 흡수량이라고 생각하면 된다(물의 attenuation coefficient에 대한 상대적 비율 * 1000). 우리는 dicom 파일로부터 뽑은 픽셀 어레이를 우선 HU 단위로 정규화 해야한다. 이 때 필요한 것은 dcm파일의 Rescale Slope과 Rescale Intercept 이다. \n",
        "\n",
        " \n",
        "\n",
        "CT이미지의 경우, 디스크에 저장되는 값과 메모리에 올라오는 값의 표현이 다르게 설정되어 있다. HU는 음수를 포함한 정수값이지만, CT이미지는 일반적으로  unsigned integer인 부호없는 정수로 저장되기 때문이다. 아래의 식은 메모리(output)와 디스크(stored value)에 저장되어 있는 픽셀값의 linear transformation 관계식이다. \n",
        "\n",
        " \n",
        "\n",
        "(output) = (rescale slope) * (stored value) + (rescale intercept) \n",
        "\n",
        " \n",
        "\n",
        "우리는 dicom 파일로부터 stored value, rescale slope, rescale intercept을 얻어 위의 식을 계산함으로써 HU에 맞는 값을 얻을 수 있다. (참고 : https://blog.kitware.com/dicom-rescale-intercept-rescale-slope-and-itk/)"
      ],
      "metadata": {
        "id": "V9sYW0tFF4T3"
      }
    },
    {
      "cell_type": "code",
      "source": [
        "\"\"\"\n",
        "Hounsfield Units(HU)\n",
        "\"\"\"\n",
        "\n",
        "recon_ct = recon_ct.astype(np.int16)\n",
        "recon_ct[recon_ct == -2000] = 0\n",
        "\n",
        "intercept = dsRef.RescaleIntercept\n",
        "slope = dsRef.RescaleSlope\n",
        "\n",
        "if slope != 1:\n",
        "\trecon_ct = slope * recon_ct.astype(np.float64)\n",
        "    recon_ct = recon_ct.astype(np.int16)\n",
        "    \n",
        "recon_ct += np.int16(intercept)"
      ],
      "metadata": {
        "id": "aiz33SokF_aV"
      },
      "execution_count": null,
      "outputs": []
    },
    {
      "cell_type": "markdown",
      "source": [
        "HU에 맞는 값을 얻은 후, 무엇을 보고싶은지에 따라 알맞게 window width와 window level을 조정한다. 예를 들어, -1000~+400까지만 보고싶다면, upper bound = 400, lower bound = -1000으로 설정한 후, 0-1로 normalize하여 사용한다.  이렇게 새로 정의된 recon_ct 를 tiff file로 원하는 path에 맞춰 저장하면 된다.\n",
        "\n",
        " "
      ],
      "metadata": {
        "id": "Ym19b10yGBjs"
      }
    },
    {
      "cell_type": "code",
      "source": [
        "MIN_BOUND = -1000.0\n",
        "MAX_BOUND = 400.0\n",
        "\n",
        "recon_ct = (recon_ct - MIN_BOUND) / (MAX_BOUND - MIN_BOUND)\n",
        "recon_ct[recon_ct>1] = 1.0\n",
        "recon_ct[recon_ct<0] = 0.0\n",
        "\n",
        "recon_ct = np.array(recon_ct, dtype = np.float32)\n",
        "\n",
        "#save array2tiff\n",
        "target_path = 'D:/data/tiff'\n",
        "target_name = 'example.tiff'\n",
        "target_path = os.path.join(target_path, target_name)\n",
        "\n",
        "imsave(target_path, recon_ct)"
      ],
      "metadata": {
        "id": "MSGhfGhsF_RT"
      },
      "execution_count": null,
      "outputs": []
    },
    {
      "cell_type": "code",
      "source": [
        ""
      ],
      "metadata": {
        "id": "QmkWc8r1F_L0"
      },
      "execution_count": null,
      "outputs": []
    },
    {
      "cell_type": "markdown",
      "source": [
        "# ----- 위까지 sorting -----\n",
        " "
      ],
      "metadata": {
        "id": "UeZfiMpBDWcC"
      }
    },
    {
      "cell_type": "code",
      "source": [
        ""
      ],
      "metadata": {
        "id": "k5_jdVFyAcaw"
      },
      "execution_count": null,
      "outputs": []
    },
    {
      "cell_type": "code",
      "source": [
        ""
      ],
      "metadata": {
        "id": "ySHhli-cAcYF"
      },
      "execution_count": null,
      "outputs": []
    },
    {
      "cell_type": "code",
      "source": [
        ""
      ],
      "metadata": {
        "id": "oqoxh5XKAcVZ"
      },
      "execution_count": null,
      "outputs": []
    },
    {
      "cell_type": "code",
      "source": [
        "sitk.WriteImage(array, 'd.nii.gz')"
      ],
      "metadata": {
        "colab": {
          "base_uri": "https://localhost:8080/",
          "height": 382
        },
        "id": "I_Jf_NB53B_7",
        "outputId": "448ef2f3-1349-4217-93ef-e2740692bd85"
      },
      "execution_count": 31,
      "outputs": [
        {
          "output_type": "error",
          "ename": "TypeError",
          "evalue": "ignored",
          "traceback": [
            "\u001b[0;31m---------------------------------------------------------------------------\u001b[0m",
            "\u001b[0;31mTypeError\u001b[0m                                 Traceback (most recent call last)",
            "\u001b[0;32m<ipython-input-31-d36dfc8ec599>\u001b[0m in \u001b[0;36m<module>\u001b[0;34m()\u001b[0m\n\u001b[0;32m----> 1\u001b[0;31m \u001b[0msitk\u001b[0m\u001b[0;34m.\u001b[0m\u001b[0mWriteImage\u001b[0m\u001b[0;34m(\u001b[0m\u001b[0marray\u001b[0m\u001b[0;34m,\u001b[0m \u001b[0;34m'd.nii.gz'\u001b[0m\u001b[0;34m)\u001b[0m\u001b[0;34m\u001b[0m\u001b[0;34m\u001b[0m\u001b[0m\n\u001b[0m",
            "\u001b[0;32m/usr/local/lib/python3.7/dist-packages/SimpleITK/extra.py\u001b[0m in \u001b[0;36mWriteImage\u001b[0;34m(image, fileName, useCompression, compressionLevel, imageIO, compressor)\u001b[0m\n\u001b[1;32m    392\u001b[0m     \u001b[0mwriter\u001b[0m\u001b[0;34m.\u001b[0m\u001b[0mSetImageIO\u001b[0m\u001b[0;34m(\u001b[0m\u001b[0mimageIO\u001b[0m\u001b[0;34m)\u001b[0m\u001b[0;34m\u001b[0m\u001b[0;34m\u001b[0m\u001b[0m\n\u001b[1;32m    393\u001b[0m     \u001b[0mwriter\u001b[0m\u001b[0;34m.\u001b[0m\u001b[0mSetCompressor\u001b[0m\u001b[0;34m(\u001b[0m\u001b[0mcompressor\u001b[0m\u001b[0;34m)\u001b[0m\u001b[0;34m\u001b[0m\u001b[0;34m\u001b[0m\u001b[0m\n\u001b[0;32m--> 394\u001b[0;31m     \u001b[0;32mreturn\u001b[0m \u001b[0mwriter\u001b[0m\u001b[0;34m.\u001b[0m\u001b[0mExecute\u001b[0m\u001b[0;34m(\u001b[0m\u001b[0mimage\u001b[0m\u001b[0;34m)\u001b[0m\u001b[0;34m\u001b[0m\u001b[0;34m\u001b[0m\u001b[0m\n\u001b[0m\u001b[1;32m    395\u001b[0m \u001b[0;34m\u001b[0m\u001b[0m\n\u001b[1;32m    396\u001b[0m \u001b[0;34m\u001b[0m\u001b[0m\n",
            "\u001b[0;32m/usr/local/lib/python3.7/dist-packages/SimpleITK/SimpleITK.py\u001b[0m in \u001b[0;36mExecute\u001b[0;34m(self, *args)\u001b[0m\n\u001b[1;32m   7501\u001b[0m \u001b[0;34m\u001b[0m\u001b[0m\n\u001b[1;32m   7502\u001b[0m         \"\"\"\n\u001b[0;32m-> 7503\u001b[0;31m         \u001b[0;32mreturn\u001b[0m \u001b[0m_SimpleITK\u001b[0m\u001b[0;34m.\u001b[0m\u001b[0mImageFileWriter_Execute\u001b[0m\u001b[0;34m(\u001b[0m\u001b[0mself\u001b[0m\u001b[0;34m,\u001b[0m \u001b[0;34m*\u001b[0m\u001b[0margs\u001b[0m\u001b[0;34m)\u001b[0m\u001b[0;34m\u001b[0m\u001b[0;34m\u001b[0m\u001b[0m\n\u001b[0m\u001b[1;32m   7504\u001b[0m \u001b[0;34m\u001b[0m\u001b[0m\n\u001b[1;32m   7505\u001b[0m \u001b[0;31m# Register ImageFileWriter in _SimpleITK:\u001b[0m\u001b[0;34m\u001b[0m\u001b[0;34m\u001b[0m\u001b[0;34m\u001b[0m\u001b[0m\n",
            "\u001b[0;31mTypeError\u001b[0m: Wrong number or type of arguments for overloaded function 'ImageFileWriter_Execute'.\n  Possible C/C++ prototypes are:\n    itk::simple::ImageFileWriter::Execute(itk::simple::Image const &)\n    itk::simple::ImageFileWriter::Execute(itk::simple::Image const &,std::string const &,bool,int)\n"
          ]
        }
      ]
    },
    {
      "cell_type": "code",
      "source": [
        "# SegBN = np.zeros_like(sitk.GetArrayFromImage(img))"
      ],
      "metadata": {
        "id": "xUAPuG7kz_G3"
      },
      "execution_count": null,
      "outputs": []
    },
    {
      "cell_type": "code",
      "source": [
        "# SegITK = sitk.GetImageFromArray(SegBN)\n",
        "# SegITK.CopyInformation(alignedNrd)\n",
        "# ...\n",
        "# sitk.WriteImage(SegITK, nrd2niiPath)"
      ],
      "metadata": {
        "id": "XxT_8qDkzoWI"
      },
      "execution_count": null,
      "outputs": []
    },
    {
      "cell_type": "code",
      "source": [
        "slic_num= len(array)\n",
        "for slic in range(slic_num):\n",
        "        DicomFileName = 'pla.dcm'\n",
        "        sitk.WriteImage(array[slic,:,:], DicomFileName)\n",
        "        print('Successifully write: ', slic)"
      ],
      "metadata": {
        "colab": {
          "base_uri": "https://localhost:8080/",
          "height": 441
        },
        "id": "x0FSNye9yXJG",
        "outputId": "02676970-3209-4bb5-d8c5-0fb8ad879925"
      },
      "execution_count": null,
      "outputs": [
        {
          "output_type": "error",
          "ename": "TypeError",
          "evalue": "ignored",
          "traceback": [
            "\u001b[0;31m---------------------------------------------------------------------------\u001b[0m",
            "\u001b[0;31mTypeError\u001b[0m                                 Traceback (most recent call last)",
            "\u001b[0;32m<ipython-input-21-9900bcea29a5>\u001b[0m in \u001b[0;36m<module>\u001b[0;34m()\u001b[0m\n\u001b[1;32m      2\u001b[0m \u001b[0;32mfor\u001b[0m \u001b[0mslic\u001b[0m \u001b[0;32min\u001b[0m \u001b[0mrange\u001b[0m\u001b[0;34m(\u001b[0m\u001b[0mslic_num\u001b[0m\u001b[0;34m)\u001b[0m\u001b[0;34m:\u001b[0m\u001b[0;34m\u001b[0m\u001b[0;34m\u001b[0m\u001b[0m\n\u001b[1;32m      3\u001b[0m         \u001b[0mDicomFileName\u001b[0m \u001b[0;34m=\u001b[0m \u001b[0;34m'pla.dcm'\u001b[0m\u001b[0;34m\u001b[0m\u001b[0;34m\u001b[0m\u001b[0m\n\u001b[0;32m----> 4\u001b[0;31m         \u001b[0msitk\u001b[0m\u001b[0;34m.\u001b[0m\u001b[0mWriteImage\u001b[0m\u001b[0;34m(\u001b[0m\u001b[0marray\u001b[0m\u001b[0;34m[\u001b[0m\u001b[0mslic\u001b[0m\u001b[0;34m,\u001b[0m\u001b[0;34m:\u001b[0m\u001b[0;34m,\u001b[0m\u001b[0;34m:\u001b[0m\u001b[0;34m]\u001b[0m\u001b[0;34m,\u001b[0m \u001b[0mDicomFileName\u001b[0m\u001b[0;34m)\u001b[0m\u001b[0;34m\u001b[0m\u001b[0;34m\u001b[0m\u001b[0m\n\u001b[0m\u001b[1;32m      5\u001b[0m         \u001b[0mprint\u001b[0m\u001b[0;34m(\u001b[0m\u001b[0;34m'Successifully write: '\u001b[0m\u001b[0;34m,\u001b[0m \u001b[0mslic\u001b[0m\u001b[0;34m)\u001b[0m\u001b[0;34m\u001b[0m\u001b[0;34m\u001b[0m\u001b[0m\n",
            "\u001b[0;32m/usr/local/lib/python3.7/dist-packages/SimpleITK/extra.py\u001b[0m in \u001b[0;36mWriteImage\u001b[0;34m(image, fileName, useCompression, compressionLevel, imageIO, compressor)\u001b[0m\n\u001b[1;32m    392\u001b[0m     \u001b[0mwriter\u001b[0m\u001b[0;34m.\u001b[0m\u001b[0mSetImageIO\u001b[0m\u001b[0;34m(\u001b[0m\u001b[0mimageIO\u001b[0m\u001b[0;34m)\u001b[0m\u001b[0;34m\u001b[0m\u001b[0;34m\u001b[0m\u001b[0m\n\u001b[1;32m    393\u001b[0m     \u001b[0mwriter\u001b[0m\u001b[0;34m.\u001b[0m\u001b[0mSetCompressor\u001b[0m\u001b[0;34m(\u001b[0m\u001b[0mcompressor\u001b[0m\u001b[0;34m)\u001b[0m\u001b[0;34m\u001b[0m\u001b[0;34m\u001b[0m\u001b[0m\n\u001b[0;32m--> 394\u001b[0;31m     \u001b[0;32mreturn\u001b[0m \u001b[0mwriter\u001b[0m\u001b[0;34m.\u001b[0m\u001b[0mExecute\u001b[0m\u001b[0;34m(\u001b[0m\u001b[0mimage\u001b[0m\u001b[0;34m)\u001b[0m\u001b[0;34m\u001b[0m\u001b[0;34m\u001b[0m\u001b[0m\n\u001b[0m\u001b[1;32m    395\u001b[0m \u001b[0;34m\u001b[0m\u001b[0m\n\u001b[1;32m    396\u001b[0m \u001b[0;34m\u001b[0m\u001b[0m\n",
            "\u001b[0;32m/usr/local/lib/python3.7/dist-packages/SimpleITK/SimpleITK.py\u001b[0m in \u001b[0;36mExecute\u001b[0;34m(self, *args)\u001b[0m\n\u001b[1;32m   7501\u001b[0m \u001b[0;34m\u001b[0m\u001b[0m\n\u001b[1;32m   7502\u001b[0m         \"\"\"\n\u001b[0;32m-> 7503\u001b[0;31m         \u001b[0;32mreturn\u001b[0m \u001b[0m_SimpleITK\u001b[0m\u001b[0;34m.\u001b[0m\u001b[0mImageFileWriter_Execute\u001b[0m\u001b[0;34m(\u001b[0m\u001b[0mself\u001b[0m\u001b[0;34m,\u001b[0m \u001b[0;34m*\u001b[0m\u001b[0margs\u001b[0m\u001b[0;34m)\u001b[0m\u001b[0;34m\u001b[0m\u001b[0;34m\u001b[0m\u001b[0m\n\u001b[0m\u001b[1;32m   7504\u001b[0m \u001b[0;34m\u001b[0m\u001b[0m\n\u001b[1;32m   7505\u001b[0m \u001b[0;31m# Register ImageFileWriter in _SimpleITK:\u001b[0m\u001b[0;34m\u001b[0m\u001b[0;34m\u001b[0m\u001b[0;34m\u001b[0m\u001b[0m\n",
            "\u001b[0;31mTypeError\u001b[0m: Wrong number or type of arguments for overloaded function 'ImageFileWriter_Execute'.\n  Possible C/C++ prototypes are:\n    itk::simple::ImageFileWriter::Execute(itk::simple::Image const &)\n    itk::simple::ImageFileWriter::Execute(itk::simple::Image const &,std::string const &,bool,int)\n"
          ]
        }
      ]
    },
    {
      "cell_type": "code",
      "source": [
        "sitk.WriteImage(array, 'plz.dcm')"
      ],
      "metadata": {
        "colab": {
          "base_uri": "https://localhost:8080/",
          "height": 386
        },
        "id": "ho33EtvAqU6B",
        "outputId": "57a64d5c-272f-4514-ba7a-667207c85ae1"
      },
      "execution_count": null,
      "outputs": [
        {
          "output_type": "error",
          "ename": "TypeError",
          "evalue": "ignored",
          "traceback": [
            "\u001b[0;31m---------------------------------------------------------------------------\u001b[0m",
            "\u001b[0;31mTypeError\u001b[0m                                 Traceback (most recent call last)",
            "\u001b[0;32m<ipython-input-16-bc45becc36c8>\u001b[0m in \u001b[0;36m<module>\u001b[0;34m()\u001b[0m\n\u001b[0;32m----> 1\u001b[0;31m \u001b[0msitk\u001b[0m\u001b[0;34m.\u001b[0m\u001b[0mWriteImage\u001b[0m\u001b[0;34m(\u001b[0m\u001b[0marray\u001b[0m\u001b[0;34m,\u001b[0m \u001b[0;34m'plz.dcm'\u001b[0m\u001b[0;34m)\u001b[0m\u001b[0;34m\u001b[0m\u001b[0;34m\u001b[0m\u001b[0m\n\u001b[0m",
            "\u001b[0;32m/usr/local/lib/python3.7/dist-packages/SimpleITK/extra.py\u001b[0m in \u001b[0;36mWriteImage\u001b[0;34m(image, fileName, useCompression, compressionLevel, imageIO, compressor)\u001b[0m\n\u001b[1;32m    392\u001b[0m     \u001b[0mwriter\u001b[0m\u001b[0;34m.\u001b[0m\u001b[0mSetImageIO\u001b[0m\u001b[0;34m(\u001b[0m\u001b[0mimageIO\u001b[0m\u001b[0;34m)\u001b[0m\u001b[0;34m\u001b[0m\u001b[0;34m\u001b[0m\u001b[0m\n\u001b[1;32m    393\u001b[0m     \u001b[0mwriter\u001b[0m\u001b[0;34m.\u001b[0m\u001b[0mSetCompressor\u001b[0m\u001b[0;34m(\u001b[0m\u001b[0mcompressor\u001b[0m\u001b[0;34m)\u001b[0m\u001b[0;34m\u001b[0m\u001b[0;34m\u001b[0m\u001b[0m\n\u001b[0;32m--> 394\u001b[0;31m     \u001b[0;32mreturn\u001b[0m \u001b[0mwriter\u001b[0m\u001b[0;34m.\u001b[0m\u001b[0mExecute\u001b[0m\u001b[0;34m(\u001b[0m\u001b[0mimage\u001b[0m\u001b[0;34m)\u001b[0m\u001b[0;34m\u001b[0m\u001b[0;34m\u001b[0m\u001b[0m\n\u001b[0m\u001b[1;32m    395\u001b[0m \u001b[0;34m\u001b[0m\u001b[0m\n\u001b[1;32m    396\u001b[0m \u001b[0;34m\u001b[0m\u001b[0m\n",
            "\u001b[0;32m/usr/local/lib/python3.7/dist-packages/SimpleITK/SimpleITK.py\u001b[0m in \u001b[0;36mExecute\u001b[0;34m(self, *args)\u001b[0m\n\u001b[1;32m   7501\u001b[0m \u001b[0;34m\u001b[0m\u001b[0m\n\u001b[1;32m   7502\u001b[0m         \"\"\"\n\u001b[0;32m-> 7503\u001b[0;31m         \u001b[0;32mreturn\u001b[0m \u001b[0m_SimpleITK\u001b[0m\u001b[0;34m.\u001b[0m\u001b[0mImageFileWriter_Execute\u001b[0m\u001b[0;34m(\u001b[0m\u001b[0mself\u001b[0m\u001b[0;34m,\u001b[0m \u001b[0;34m*\u001b[0m\u001b[0margs\u001b[0m\u001b[0;34m)\u001b[0m\u001b[0;34m\u001b[0m\u001b[0;34m\u001b[0m\u001b[0m\n\u001b[0m\u001b[1;32m   7504\u001b[0m \u001b[0;34m\u001b[0m\u001b[0m\n\u001b[1;32m   7505\u001b[0m \u001b[0;31m# Register ImageFileWriter in _SimpleITK:\u001b[0m\u001b[0;34m\u001b[0m\u001b[0;34m\u001b[0m\u001b[0;34m\u001b[0m\u001b[0m\n",
            "\u001b[0;31mTypeError\u001b[0m: Wrong number or type of arguments for overloaded function 'ImageFileWriter_Execute'.\n  Possible C/C++ prototypes are:\n    itk::simple::ImageFileWriter::Execute(itk::simple::Image const &)\n    itk::simple::ImageFileWriter::Execute(itk::simple::Image const &,std::string const &,bool,int)\n"
          ]
        }
      ]
    },
    {
      "cell_type": "code",
      "source": [
        "array.shape"
      ],
      "metadata": {
        "colab": {
          "base_uri": "https://localhost:8080/"
        },
        "id": "gIDMSJ0ym3V3",
        "outputId": "aba4af88-160d-4581-a8a0-53e747e824a0"
      },
      "execution_count": null,
      "outputs": [
        {
          "output_type": "execute_result",
          "data": {
            "text/plain": [
              "(121, 512, 512)"
            ]
          },
          "metadata": {},
          "execution_count": 9
        }
      ]
    },
    {
      "cell_type": "code",
      "source": [
        "def _transform(dcm_dir,save_dir):\n",
        "###   from dcm to nii\n",
        "    reader = sitk.ImageSeriesReader()\n",
        "    dicom_names = reader.GetGDCMSeriesFileNames(dcm_dir)\n",
        "    reader.SetFileNames(dicom_names)\n",
        "    image2 = reader.Execute()\n",
        "    \n",
        "###   transform 3D image to array\n",
        "    image_array = sitk.GetArrayFromImage(image2)  #  z,y,x\n",
        "\n",
        "###   crop the dark voxel\n",
        "#    new_array,range_list = get_bound(image_array)\n",
        "\n",
        "\n",
        "###   transform array to 3D image\n",
        "    image3 = sitk.GetImageFromArray(image_array)\n",
        "\n",
        "###   save 3D image\n",
        "    name = dcm_dir.split('/')[-1] + '.nii'\n",
        "    save_path = os.path.join(save_dir,name)   #   get the save path\n",
        "    sitk.WriteImage(image3,save_path) "
      ],
      "metadata": {
        "id": "WbFMuM9-m3S9"
      },
      "execution_count": null,
      "outputs": []
    },
    {
      "cell_type": "code",
      "source": [
        ""
      ],
      "metadata": {
        "id": "8lQBMlUNm3QZ"
      },
      "execution_count": null,
      "outputs": []
    },
    {
      "cell_type": "code",
      "source": [
        ""
      ],
      "metadata": {
        "id": "F8ClItXsm3N_"
      },
      "execution_count": null,
      "outputs": []
    },
    {
      "cell_type": "code",
      "source": [
        ""
      ],
      "metadata": {
        "id": "TwoqxCR4m3LR"
      },
      "execution_count": null,
      "outputs": []
    },
    {
      "cell_type": "code",
      "source": [
        ""
      ],
      "metadata": {
        "id": "9BJSlvGKm3I-"
      },
      "execution_count": null,
      "outputs": []
    },
    {
      "cell_type": "code",
      "source": [
        ""
      ],
      "metadata": {
        "id": "Jp4Wj__Um3Gh"
      },
      "execution_count": null,
      "outputs": []
    },
    {
      "cell_type": "code",
      "source": [
        ""
      ],
      "metadata": {
        "id": "04q7DYIgm3D_"
      },
      "execution_count": null,
      "outputs": []
    },
    {
      "cell_type": "code",
      "source": [
        ""
      ],
      "metadata": {
        "id": "HQBHRUwum3Br"
      },
      "execution_count": null,
      "outputs": []
    },
    {
      "cell_type": "code",
      "source": [
        ""
      ],
      "metadata": {
        "id": "WQEgaTyjm2_f"
      },
      "execution_count": null,
      "outputs": []
    },
    {
      "cell_type": "code",
      "source": [
        ""
      ],
      "metadata": {
        "id": "O4isayAhm27g"
      },
      "execution_count": null,
      "outputs": []
    },
    {
      "cell_type": "code",
      "source": [
        ""
      ],
      "metadata": {
        "id": "hRvU8LVem25L"
      },
      "execution_count": null,
      "outputs": []
    },
    {
      "cell_type": "code",
      "source": [
        ""
      ],
      "metadata": {
        "id": "tsU14Jpim221"
      },
      "execution_count": null,
      "outputs": []
    },
    {
      "cell_type": "code",
      "source": [
        ""
      ],
      "metadata": {
        "id": "3oAPcPqqm20h"
      },
      "execution_count": null,
      "outputs": []
    },
    {
      "cell_type": "code",
      "source": [
        ""
      ],
      "metadata": {
        "id": "Sb5uIJmgm2yF"
      },
      "execution_count": null,
      "outputs": []
    },
    {
      "cell_type": "code",
      "source": [
        ""
      ],
      "metadata": {
        "id": "zDAhycHsmUNN"
      },
      "execution_count": null,
      "outputs": []
    }
  ]
}