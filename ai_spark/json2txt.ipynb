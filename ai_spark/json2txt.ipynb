{
  "nbformat": 4,
  "nbformat_minor": 0,
  "metadata": {
    "colab": {
      "name": "json2txt.ipynb",
      "provenance": [],
      "collapsed_sections": [],
      "mount_file_id": "1WqLtGP3SCxjFc9tdS6k7j5q-enyZ0vHX",
      "authorship_tag": "ABX9TyNg6CSDOHSAA7Jem6u25Hk0",
      "include_colab_link": true
    },
    "kernelspec": {
      "name": "python3",
      "display_name": "Python 3"
    },
    "language_info": {
      "name": "python"
    }
  },
  "cells": [
    {
      "cell_type": "markdown",
      "metadata": {
        "id": "view-in-github",
        "colab_type": "text"
      },
      "source": [
        "<a href=\"https://colab.research.google.com/github/SeunghyeChae/tmdhey/blob/main/ai_spark/json2txt.ipynb\" target=\"_parent\"><img src=\"https://colab.research.google.com/assets/colab-badge.svg\" alt=\"Open In Colab\"/></a>"
      ]
    },
    {
      "cell_type": "code",
      "execution_count": null,
      "metadata": {
        "colab": {
          "base_uri": "https://localhost:8080/"
        },
        "id": "fnHlZaEgxN0J",
        "outputId": "22f889bf-d1a4-4748-efe9-10e73a49d2ed"
      },
      "outputs": [
        {
          "output_type": "stream",
          "name": "stdout",
          "text": [
            "{\"label_info\": {\"image\": {\"file_name\": \"livestock_pig_bbox_000001.jpg\", \"width\": 1920, \"height\": 1080, \"farm_name\": \"Asan\", \"farm_env\": \"open\", \"time\": \"daytime\"}, \"annotations\": [{\"bbox\": [240, 2, 427, 164], \"category_id\": 1}, {\"bbox\": [831, 186, 1205, 610], \"category_id\": 1}, {\"bbox\": [1162, 468, 1507, 827], \"category_id\": 1}, {\"bbox\": [1234, 723, 1591, 959], \"category_id\": 1}, {\"bbox\": [1020, 3, 1462, 163], \"category_id\": 1}, {\"bbox\": [344, 50, 654, 390], \"category_id\": 1}, {\"bbox\": [375, 223, 675, 610], \"category_id\": 1}, {\"bbox\": [583, 421, 899, 843], \"category_id\": 1}, {\"bbox\": [870, 732, 1308, 969], \"category_id\": 1}, {\"bbox\": [678, 116, 976, 469], \"category_id\": 1}, {\"bbox\": [863, 877, 1276, 1013], \"category_id\": 1}, {\"bbox\": [316, 641, 635, 928], \"category_id\": 1}, {\"bbox\": [586, 0, 831, 433], \"category_id\": 1}], \"categories\": [{\"supercategory\": \"livestock_pig\", \"id\": 1, \"name\": \"fat_pig\"}, {\"supercategory\": \"livestock_pig\", \"id\": 2, \"name\": \"weaning_pig\"}, {\"supercategory\": \"livestock_pig\", \"id\": 3, \"name\": \"sow\"}]}}\n"
          ]
        }
      ],
      "source": [
        "import json\n",
        "\n",
        "\n",
        "\n",
        "with open('/content/drive/MyDrive/Innopolis_spark/글쎄~ㅋㅋ/sample_data/돼지/label/livestock_pig_bbox_000001.json', 'r') as f:\n",
        "\n",
        "    json_data = json.load(f)\n",
        "\n",
        "print(json.dumps(json_data) )\n"
      ]
    },
    {
      "cell_type": "code",
      "source": [
        "print(json.dumps(json_data, indent=\"\\t\") )"
      ],
      "metadata": {
        "colab": {
          "base_uri": "https://localhost:8080/"
        },
        "id": "qazpdBGe1Ytb",
        "outputId": "09a06b9b-5932-4d2d-999e-0f36512f7b42"
      },
      "execution_count": null,
      "outputs": [
        {
          "output_type": "stream",
          "name": "stdout",
          "text": [
            "{\n",
            "\t\"label_info\": {\n",
            "\t\t\"image\": {\n",
            "\t\t\t\"file_name\": \"livestock_pig_bbox_000001.jpg\",\n",
            "\t\t\t\"width\": 1920,\n",
            "\t\t\t\"height\": 1080,\n",
            "\t\t\t\"farm_name\": \"Asan\",\n",
            "\t\t\t\"farm_env\": \"open\",\n",
            "\t\t\t\"time\": \"daytime\"\n",
            "\t\t},\n",
            "\t\t\"annotations\": [\n",
            "\t\t\t{\n",
            "\t\t\t\t\"bbox\": [\n",
            "\t\t\t\t\t240,\n",
            "\t\t\t\t\t2,\n",
            "\t\t\t\t\t427,\n",
            "\t\t\t\t\t164\n",
            "\t\t\t\t],\n",
            "\t\t\t\t\"category_id\": 1\n",
            "\t\t\t},\n",
            "\t\t\t{\n",
            "\t\t\t\t\"bbox\": [\n",
            "\t\t\t\t\t831,\n",
            "\t\t\t\t\t186,\n",
            "\t\t\t\t\t1205,\n",
            "\t\t\t\t\t610\n",
            "\t\t\t\t],\n",
            "\t\t\t\t\"category_id\": 1\n",
            "\t\t\t},\n",
            "\t\t\t{\n",
            "\t\t\t\t\"bbox\": [\n",
            "\t\t\t\t\t1162,\n",
            "\t\t\t\t\t468,\n",
            "\t\t\t\t\t1507,\n",
            "\t\t\t\t\t827\n",
            "\t\t\t\t],\n",
            "\t\t\t\t\"category_id\": 1\n",
            "\t\t\t},\n",
            "\t\t\t{\n",
            "\t\t\t\t\"bbox\": [\n",
            "\t\t\t\t\t1234,\n",
            "\t\t\t\t\t723,\n",
            "\t\t\t\t\t1591,\n",
            "\t\t\t\t\t959\n",
            "\t\t\t\t],\n",
            "\t\t\t\t\"category_id\": 1\n",
            "\t\t\t},\n",
            "\t\t\t{\n",
            "\t\t\t\t\"bbox\": [\n",
            "\t\t\t\t\t1020,\n",
            "\t\t\t\t\t3,\n",
            "\t\t\t\t\t1462,\n",
            "\t\t\t\t\t163\n",
            "\t\t\t\t],\n",
            "\t\t\t\t\"category_id\": 1\n",
            "\t\t\t},\n",
            "\t\t\t{\n",
            "\t\t\t\t\"bbox\": [\n",
            "\t\t\t\t\t344,\n",
            "\t\t\t\t\t50,\n",
            "\t\t\t\t\t654,\n",
            "\t\t\t\t\t390\n",
            "\t\t\t\t],\n",
            "\t\t\t\t\"category_id\": 1\n",
            "\t\t\t},\n",
            "\t\t\t{\n",
            "\t\t\t\t\"bbox\": [\n",
            "\t\t\t\t\t375,\n",
            "\t\t\t\t\t223,\n",
            "\t\t\t\t\t675,\n",
            "\t\t\t\t\t610\n",
            "\t\t\t\t],\n",
            "\t\t\t\t\"category_id\": 1\n",
            "\t\t\t},\n",
            "\t\t\t{\n",
            "\t\t\t\t\"bbox\": [\n",
            "\t\t\t\t\t583,\n",
            "\t\t\t\t\t421,\n",
            "\t\t\t\t\t899,\n",
            "\t\t\t\t\t843\n",
            "\t\t\t\t],\n",
            "\t\t\t\t\"category_id\": 1\n",
            "\t\t\t},\n",
            "\t\t\t{\n",
            "\t\t\t\t\"bbox\": [\n",
            "\t\t\t\t\t870,\n",
            "\t\t\t\t\t732,\n",
            "\t\t\t\t\t1308,\n",
            "\t\t\t\t\t969\n",
            "\t\t\t\t],\n",
            "\t\t\t\t\"category_id\": 1\n",
            "\t\t\t},\n",
            "\t\t\t{\n",
            "\t\t\t\t\"bbox\": [\n",
            "\t\t\t\t\t678,\n",
            "\t\t\t\t\t116,\n",
            "\t\t\t\t\t976,\n",
            "\t\t\t\t\t469\n",
            "\t\t\t\t],\n",
            "\t\t\t\t\"category_id\": 1\n",
            "\t\t\t},\n",
            "\t\t\t{\n",
            "\t\t\t\t\"bbox\": [\n",
            "\t\t\t\t\t863,\n",
            "\t\t\t\t\t877,\n",
            "\t\t\t\t\t1276,\n",
            "\t\t\t\t\t1013\n",
            "\t\t\t\t],\n",
            "\t\t\t\t\"category_id\": 1\n",
            "\t\t\t},\n",
            "\t\t\t{\n",
            "\t\t\t\t\"bbox\": [\n",
            "\t\t\t\t\t316,\n",
            "\t\t\t\t\t641,\n",
            "\t\t\t\t\t635,\n",
            "\t\t\t\t\t928\n",
            "\t\t\t\t],\n",
            "\t\t\t\t\"category_id\": 1\n",
            "\t\t\t},\n",
            "\t\t\t{\n",
            "\t\t\t\t\"bbox\": [\n",
            "\t\t\t\t\t586,\n",
            "\t\t\t\t\t0,\n",
            "\t\t\t\t\t831,\n",
            "\t\t\t\t\t433\n",
            "\t\t\t\t],\n",
            "\t\t\t\t\"category_id\": 1\n",
            "\t\t\t}\n",
            "\t\t],\n",
            "\t\t\"categories\": [\n",
            "\t\t\t{\n",
            "\t\t\t\t\"supercategory\": \"livestock_pig\",\n",
            "\t\t\t\t\"id\": 1,\n",
            "\t\t\t\t\"name\": \"fat_pig\"\n",
            "\t\t\t},\n",
            "\t\t\t{\n",
            "\t\t\t\t\"supercategory\": \"livestock_pig\",\n",
            "\t\t\t\t\"id\": 2,\n",
            "\t\t\t\t\"name\": \"weaning_pig\"\n",
            "\t\t\t},\n",
            "\t\t\t{\n",
            "\t\t\t\t\"supercategory\": \"livestock_pig\",\n",
            "\t\t\t\t\"id\": 3,\n",
            "\t\t\t\t\"name\": \"sow\"\n",
            "\t\t\t}\n",
            "\t\t]\n",
            "\t}\n",
            "}\n"
          ]
        }
      ]
    },
    {
      "cell_type": "markdown",
      "source": [
        "# 1"
      ],
      "metadata": {
        "id": "peVnLeSX2jb6"
      }
    },
    {
      "cell_type": "code",
      "source": [
        "json1= '/content/drive/MyDrive/Innopolis_spark/글쎄~ㅋㅋ/sample_data/돼지/label/livestock_pig_bbox_000001.json'"
      ],
      "metadata": {
        "id": "fn-inr321Yqu"
      },
      "execution_count": null,
      "outputs": []
    },
    {
      "cell_type": "code",
      "source": [
        "import numpy as np\n",
        "\n",
        "def convert(size, box):\n",
        "    dw = 1. / size[0]\n",
        "    dh = 1. / size[1]\n",
        "    x = (box[0] + box[2]) * dw / 2\n",
        "    y = (box[1] + box[3]) * dh / 2\n",
        "    w = (box[2] - box[0]) * dw\n",
        "    h = (box[3] - box[1]) * dh\n",
        "    x = np.round(x,6)\n",
        "    y = np.round(y,6)\n",
        "    w = np.round(w,6)\n",
        "    h = np.round(h,6)\n",
        "    return (x, y, w, h)"
      ],
      "metadata": {
        "id": "K3tCYNHh3H3Q"
      },
      "execution_count": null,
      "outputs": []
    },
    {
      "cell_type": "code",
      "source": [
        "with open(json1, 'r') as f:\n",
        "    json_data = json.load(f)\n",
        "    data = json_data[\"label_info\"]\n",
        "    # print(json.dumps(data, indent=\"\\t\"))\n",
        "\n",
        "    data_img = data[\"image\"]\n",
        "    file_name = data_img[\"file_name\"]\n",
        "    width = int(data_img[\"width\"])\n",
        "    height = int(data_img[\"height\"])\n",
        "\n",
        "\n",
        "    objects = data[\"annotations\"]\n",
        "    \n",
        "    outfile = open('/%s.txt' % (file_name[:-4]), 'a+')\n",
        "\n",
        "    for item1 in objects:\n",
        "        cls = item1[\"category_id\"]\n",
        "        # data_id = item1[\"data ID\"]\n",
        "\n",
        "        \n",
        "        box= item1['bbox']\n",
        "        box = ','.join(map(str, box))\n",
        "        box = box.split(',')\n",
        "        x1 = int(box[0])\n",
        "        y1 = int(box[1])\n",
        "        x2 = int(box[2])\n",
        "        y2 = int(box[3])\n",
        "        box = [x1, y1, x2, y2]\n",
        "        bb = convert((width, height), box)\n",
        "        print(str(cls) + \" \" + \" \".join([str(a) for a in bb]))\n",
        "        # print(str(cls) + \" \" + \" \".join([str(a) for a in bb]) + '\\n')\n",
        "        outfile.write(str(cls) + \" \" + \" \".join([str(a) for a in bb]))\n",
        "    outfile.close()\n",
        "\n",
        "print(outfile)\n"
      ],
      "metadata": {
        "colab": {
          "base_uri": "https://localhost:8080/"
        },
        "id": "16iaySr59KMs",
        "outputId": "6f2e3cde-411d-4958-aa3a-f3cf17e93448"
      },
      "execution_count": null,
      "outputs": [
        {
          "output_type": "stream",
          "name": "stdout",
          "text": [
            "1 0.173698 0.076852 0.097396 0.15\n",
            "1 0.530208 0.368519 0.194792 0.392593\n",
            "1 0.695052 0.599537 0.179688 0.332407\n",
            "1 0.735677 0.778704 0.185938 0.218519\n",
            "1 0.646354 0.076852 0.230208 0.148148\n",
            "1 0.259896 0.203704 0.161458 0.314815\n",
            "1 0.273438 0.385648 0.15625 0.358333\n",
            "1 0.385938 0.585185 0.164583 0.390741\n",
            "1 0.567188 0.7875 0.228125 0.219444\n",
            "1 0.430729 0.270833 0.155208 0.326852\n",
            "1 0.557031 0.875 0.215104 0.125926\n",
            "1 0.247656 0.726389 0.166146 0.265741\n",
            "1 0.36901 0.200463 0.127604 0.400926\n",
            "<_io.TextIOWrapper name='/livestock_pig_bbox_000001.txt' mode='a+' encoding='UTF-8'>\n"
          ]
        }
      ]
    },
    {
      "cell_type": "code",
      "source": [
        ""
      ],
      "metadata": {
        "id": "5ZmDtDoQ9KKI"
      },
      "execution_count": null,
      "outputs": []
    },
    {
      "cell_type": "code",
      "source": [
        ""
      ],
      "metadata": {
        "id": "GjkJsKk-9KFp"
      },
      "execution_count": null,
      "outputs": []
    },
    {
      "cell_type": "code",
      "source": [
        ""
      ],
      "metadata": {
        "id": "WZo5wzGG9KCf"
      },
      "execution_count": null,
      "outputs": []
    },
    {
      "cell_type": "code",
      "source": [
        ""
      ],
      "metadata": {
        "id": "eKhnituO9J9-"
      },
      "execution_count": null,
      "outputs": []
    },
    {
      "cell_type": "code",
      "source": [
        ""
      ],
      "metadata": {
        "id": "xDr-mAYI1Yka"
      },
      "execution_count": null,
      "outputs": []
    },
    {
      "cell_type": "code",
      "source": [
        ""
      ],
      "metadata": {
        "id": "EswNOn_J1Yh2"
      },
      "execution_count": null,
      "outputs": []
    },
    {
      "cell_type": "code",
      "source": [
        ""
      ],
      "metadata": {
        "id": "xcaqn6A11Yfa"
      },
      "execution_count": null,
      "outputs": []
    },
    {
      "cell_type": "code",
      "source": [
        ""
      ],
      "metadata": {
        "id": "jtXkFNhN1Ybg"
      },
      "execution_count": null,
      "outputs": []
    }
  ]
}