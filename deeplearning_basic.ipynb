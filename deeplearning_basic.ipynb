{
  "nbformat": 4,
  "nbformat_minor": 0,
  "metadata": {
    "colab": {
      "name": "deeplearning_basic",
      "provenance": [],
      "authorship_tag": "ABX9TyMmxCR5zbeOPBPpkNT0m3E/",
      "include_colab_link": true
    },
    "kernelspec": {
      "name": "python3",
      "display_name": "Python 3"
    },
    "language_info": {
      "name": "python"
    }
  },
  "cells": [
    {
      "cell_type": "markdown",
      "metadata": {
        "id": "view-in-github",
        "colab_type": "text"
      },
      "source": [
        "<a href=\"https://colab.research.google.com/github/SeunghyeChae/tmdhey/blob/main/deeplearning_basic.ipynb\" target=\"_parent\"><img src=\"https://colab.research.google.com/assets/colab-badge.svg\" alt=\"Open In Colab\"/></a>"
      ]
    },
    {
      "cell_type": "code",
      "execution_count": 1,
      "metadata": {
        "colab": {
          "base_uri": "https://localhost:8080/"
        },
        "id": "oYERtb8NcX-3",
        "outputId": "52da349d-37a5-454c-efff-cd5c519a434c"
      },
      "outputs": [
        {
          "output_type": "stream",
          "name": "stdout",
          "text": [
            "Mounted at /content/drive\n"
          ]
        }
      ],
      "source": [
        "from google.colab import drive\n",
        "drive.mount('/content/drive')"
      ]
    },
    {
      "cell_type": "code",
      "source": [
        "import tensorflow as tf\n",
        "\n",
        "vgg_net = tf.keras.applications.VGG16(include_top=True, weights='imagenet',\n",
        "                                     input_tensor=None, input_shape=None,\n",
        "                                     pooling=None, classes=1000)"
      ],
      "metadata": {
        "id": "B-u_-3utca24"
      },
      "execution_count": null,
      "outputs": []
    }
  ]
}