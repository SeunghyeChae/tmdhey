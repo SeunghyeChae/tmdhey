{
  "nbformat": 4,
  "nbformat_minor": 0,
  "metadata": {
    "colab": {
      "name": "deeplearning_basic_2",
      "provenance": [],
      "collapsed_sections": [],
      "machine_shape": "hm",
      "authorship_tag": "ABX9TyOMkEtR4Gi79bQSt8zdKRK+",
      "include_colab_link": true
    },
    "kernelspec": {
      "name": "python3",
      "display_name": "Python 3"
    },
    "language_info": {
      "name": "python"
    },
    "accelerator": "GPU"
  },
  "cells": [
    {
      "cell_type": "markdown",
      "metadata": {
        "id": "view-in-github",
        "colab_type": "text"
      },
      "source": [
        "<a href=\"https://colab.research.google.com/github/SeunghyeChae/tmdhey/blob/main/deeplearning_basic_2.ipynb\" target=\"_parent\"><img src=\"https://colab.research.google.com/assets/colab-badge.svg\" alt=\"Open In Colab\"/></a>"
      ]
    },
    {
      "cell_type": "markdown",
      "source": [
        "# MNIST 딥러닝"
      ],
      "metadata": {
        "id": "O2Sf03MZZk7Q"
      }
    },
    {
      "cell_type": "code",
      "source": [
        "import tensorflow as tf\n",
        "from tensorflow.keras.datasets.mnist import load_data\n",
        "from tensorflow.keras.models import Sequential\n",
        "from tensorflow.keras import models\n",
        "from tensorflow.keras.layers import Dense,Input,Flatten\n",
        "from tensorflow.keras.utils import to_categorical, plot_model\n",
        "\n",
        "from sklearn.model_selection import train_test_split\n",
        "import numpy as np\n",
        "import matplotlib.pyplot as plt\n",
        "plt.style.use('seaborn-white')\n"
      ],
      "metadata": {
        "id": "uMyGpWF9ZjhB"
      },
      "execution_count": 1,
      "outputs": []
    },
    {
      "cell_type": "code",
      "source": [
        "tf.random.set_seed(111)\n",
        "\n",
        "(x_train_full, y_train_full),(x_test, y_test)= load_data(path='mnist.npz')\n",
        "\n",
        "x_train, x_val, y_train, y_val = train_test_split(x_train_full, y_train_full,\n",
        "                                                  test_size=0.3,\n",
        "                                                  random_state=111)\n"
      ],
      "metadata": {
        "colab": {
          "base_uri": "https://localhost:8080/"
        },
        "id": "AhGF0I7QZje0",
        "outputId": "e246363c-6dd2-49f4-ef55-a5ce76846693"
      },
      "execution_count": 2,
      "outputs": [
        {
          "output_type": "stream",
          "name": "stdout",
          "text": [
            "Downloading data from https://storage.googleapis.com/tensorflow/tf-keras-datasets/mnist.npz\n",
            "11493376/11490434 [==============================] - 0s 0us/step\n",
            "11501568/11490434 [==============================] - 0s 0us/step\n"
          ]
        }
      ]
    },
    {
      "cell_type": "code",
      "source": [
        "num_x_train= (x_train.shape[0])\n",
        "num_x_val= (x_val.shape[0])\n",
        "num_x_test= (x_test.shape[0])\n",
        "\n",
        "print('학습 데이터: {}\\t레이블: {}'.format(x_train_full.shape, y_train_full.shape))\n",
        "print('학습 데이터: {}\\t레이블: {}'.format(x_train.shape, y_train.shape))\n",
        "print('학습 데이터: {}\\t레이블: {}'.format(x_val.shape, y_val.shape))\n",
        "print('학습 데이터: {}\\t레이블: {}'.format(x_test.shape, y_test.shape))\n"
      ],
      "metadata": {
        "colab": {
          "base_uri": "https://localhost:8080/"
        },
        "id": "wtxxQKsyZjcK",
        "outputId": "0803eee6-74ec-483e-a078-e82be14f76e9"
      },
      "execution_count": 3,
      "outputs": [
        {
          "output_type": "stream",
          "name": "stdout",
          "text": [
            "학습 데이터: (60000, 28, 28)\t레이블: (60000,)\n",
            "학습 데이터: (42000, 28, 28)\t레이블: (42000,)\n",
            "학습 데이터: (18000, 28, 28)\t레이블: (18000,)\n",
            "학습 데이터: (10000, 28, 28)\t레이블: (10000,)\n"
          ]
        }
      ]
    },
    {
      "cell_type": "code",
      "source": [
        "num_sample= 5\n",
        "random_idxs= np.random.randint(60000, size=num_sample)\n",
        "\n",
        "plt.figure(figsize=(15,3))\n",
        "for i,idx in enumerate(random_idxs):\n",
        "  img= x_train_full[idx,:]\n",
        "  label= y_train_full[idx]\n",
        "\n",
        "  plt.subplot(1, len(random_idxs),i+1)\n",
        "  plt.imshow(img)\n",
        "  plt.title('Index: {}, Label: {}'.format(idx,label))"
      ],
      "metadata": {
        "colab": {
          "base_uri": "https://localhost:8080/",
          "height": 204
        },
        "id": "a3moT2VIZjZo",
        "outputId": "9159cefb-496e-4ee7-94f7-43048d099f29"
      },
      "execution_count": 4,
      "outputs": [
        {
          "output_type": "display_data",
          "data": {
            "image/png": "[encoded data removed]",
            "text/plain": [
              "<Figure size 1080x216 with 5 Axes>"
            ]
          },
          "metadata": {
            "needs_background": "light"
          }
        }
      ]
    },
    {
      "cell_type": "code",
      "source": [
        "# normalization\n",
        "x_train = x_train/255.      # 0~255값을 가지는 것을 0~1로 normalization\n",
        "x_val= x_val/255.\n",
        "x_test= x_test/255.\n",
        "\n",
        "y_train= to_categorical(y_train)  # 정답 0~9를 categorical로 변환\n",
        "y_val= to_categorical(y_val)\n",
        "y_test= to_categorical(y_test)"
      ],
      "metadata": {
        "id": "ulDrW39CdIz3"
      },
      "execution_count": 5,
      "outputs": []
    },
    {
      "cell_type": "markdown",
      "source": [
        "# 모델 구성(Sequential)"
      ],
      "metadata": {
        "id": "klD5PboxdvrP"
      }
    },
    {
      "cell_type": "code",
      "source": [
        "# list로 넣는게 간단함 / mnist는 (2)8,28) 이미지임 \n",
        "model= Sequential([Input(shape=(28,28),name='input'),\n",
        "                  Flatten(input_shape=[28,28], name='flatten'),\n",
        "                  Dense(100, activation='relu', name='dense1'),\n",
        "                  Dense(64, activation='relu', name='dense2'),\n",
        "                  Dense(32, activation='relu', name='dense3'),\n",
        "                  Dense(10, activation='softmax', name='output')]) \n",
        "\n",
        "model.summary()\n",
        "\n",
        "# Flatten : 28*28 = 784  >> Dense layer로 100>64>32>10으로 신경망구성해서 줄임"
      ],
      "metadata": {
        "colab": {
          "base_uri": "https://localhost:8080/"
        },
        "id": "-2naKdkXdIxh",
        "outputId": "4ba4fba4-91c5-4175-8571-3491586b87dd"
      },
      "execution_count": 6,
      "outputs": [
        {
          "output_type": "stream",
          "name": "stdout",
          "text": [
            "Model: \"sequential\"\n",
            "_________________________________________________________________\n",
            " Layer (type)                Output Shape              Param #   \n",
            "=================================================================\n",
            " flatten (Flatten)           (None, 784)               0         \n",
            "                                                                 \n",
            " dense1 (Dense)              (None, 100)               78500     \n",
            "                                                                 \n",
            " dense2 (Dense)              (None, 64)                6464      \n",
            "                                                                 \n",
            " dense3 (Dense)              (None, 32)                2080      \n",
            "                                                                 \n",
            " output (Dense)              (None, 10)                330       \n",
            "                                                                 \n",
            "=================================================================\n",
            "Total params: 87,374\n",
            "Trainable params: 87,374\n",
            "Non-trainable params: 0\n",
            "_________________________________________________________________\n"
          ]
        }
      ]
    },
    {
      "cell_type": "code",
      "source": [
        "plot_model(model)"
      ],
      "metadata": {
        "colab": {
          "base_uri": "https://localhost:8080/",
          "height": 564
        },
        "id": "n55LSvG2dIvA",
        "outputId": "2edc8806-87c5-4ddd-f836-f4f438905d56"
      },
      "execution_count": 7,
      "outputs": [
        {
          "output_type": "execute_result",
          "data": {
            "image/png": "[encoded data removed]",
            "text/plain": [
              "<IPython.core.display.Image object>"
            ]
          },
          "metadata": {},
          "execution_count": 7
        }
      ]
    },
    {
      "cell_type": "code",
      "source": [
        "plot_model(model, show_shapes=True)"
      ],
      "metadata": {
        "colab": {
          "base_uri": "https://localhost:8080/",
          "height": 644
        },
        "id": "eMN6w1GMdIso",
        "outputId": "8925d5b1-6262-4489-c871-5db6c1eb75fa"
      },
      "execution_count": 8,
      "outputs": [
        {
          "output_type": "execute_result",
          "data": {
            "image/png": "[encoded data removed]",
            "text/plain": [
              "<IPython.core.display.Image object>"
            ]
          },
          "metadata": {},
          "execution_count": 8
        }
      ]
    },
    {
      "cell_type": "markdown",
      "source": [
        "# model compile & training"
      ],
      "metadata": {
        "id": "CNAQq7iufbiW"
      }
    },
    {
      "cell_type": "code",
      "source": [
        "model.compile(loss='categorical_crossentropy',\n",
        "              optimizer='sgd',\n",
        "              metrics=['acc'])"
      ],
      "metadata": {
        "id": "4CMtcOcVdIqH"
      },
      "execution_count": 9,
      "outputs": []
    },
    {
      "cell_type": "code",
      "source": [
        "history= model.fit(x_train,y_train,\n",
        "                   epochs=50,\n",
        "                   batch_size=128,\n",
        "                   validation_data=(x_val,y_val))"
      ],
      "metadata": {
        "colab": {
          "base_uri": "https://localhost:8080/"
        },
        "id": "EzEAadg4dIn4",
        "outputId": "00711f80-c39a-4fd2-fde5-7d40c2b1e392"
      },
      "execution_count": 10,
      "outputs": [
        {
          "output_type": "stream",
          "name": "stdout",
          "text": [
            "Epoch 1/50\n",
            "329/329 [==============================] - 4s 6ms/step - loss: 1.6822 - acc: 0.5096 - val_loss: 0.9621 - val_acc: 0.7749\n",
            "Epoch 2/50\n",
            "329/329 [==============================] - 2s 5ms/step - loss: 0.6800 - acc: 0.8292 - val_loss: 0.5311 - val_acc: 0.8517\n",
            "Epoch 3/50\n",
            "329/329 [==============================] - 2s 6ms/step - loss: 0.4660 - acc: 0.8714 - val_loss: 0.4191 - val_acc: 0.8792\n",
            "Epoch 4/50\n",
            "329/329 [==============================] - 2s 6ms/step - loss: 0.3920 - acc: 0.8899 - val_loss: 0.3733 - val_acc: 0.8909\n",
            "Epoch 5/50\n",
            "329/329 [==============================] - 2s 6ms/step - loss: 0.3500 - acc: 0.9004 - val_loss: 0.3319 - val_acc: 0.9044\n",
            "Epoch 6/50\n",
            "329/329 [==============================] - 1s 4ms/step - loss: 0.3205 - acc: 0.9089 - val_loss: 0.3188 - val_acc: 0.9062\n",
            "Epoch 7/50\n",
            "329/329 [==============================] - 1s 4ms/step - loss: 0.2977 - acc: 0.9150 - val_loss: 0.3171 - val_acc: 0.9060\n",
            "Epoch 8/50\n",
            "329/329 [==============================] - 1s 5ms/step - loss: 0.2790 - acc: 0.9194 - val_loss: 0.2721 - val_acc: 0.9226\n",
            "Epoch 9/50\n",
            "329/329 [==============================] - 1s 4ms/step - loss: 0.2631 - acc: 0.9248 - val_loss: 0.2679 - val_acc: 0.9222\n",
            "Epoch 10/50\n",
            "329/329 [==============================] - 1s 3ms/step - loss: 0.2495 - acc: 0.9289 - val_loss: 0.2511 - val_acc: 0.9281\n",
            "Epoch 11/50\n",
            "329/329 [==============================] - 1s 3ms/step - loss: 0.2375 - acc: 0.9321 - val_loss: 0.2383 - val_acc: 0.9321\n",
            "Epoch 12/50\n",
            "329/329 [==============================] - 1s 3ms/step - loss: 0.2269 - acc: 0.9351 - val_loss: 0.2499 - val_acc: 0.9256\n",
            "Epoch 13/50\n",
            "329/329 [==============================] - 1s 3ms/step - loss: 0.2171 - acc: 0.9377 - val_loss: 0.2211 - val_acc: 0.9369\n",
            "Epoch 14/50\n",
            "329/329 [==============================] - 1s 3ms/step - loss: 0.2082 - acc: 0.9417 - val_loss: 0.2157 - val_acc: 0.9378\n",
            "Epoch 15/50\n",
            "329/329 [==============================] - 1s 3ms/step - loss: 0.1996 - acc: 0.9430 - val_loss: 0.2147 - val_acc: 0.9370\n",
            "Epoch 16/50\n",
            "329/329 [==============================] - 1s 3ms/step - loss: 0.1922 - acc: 0.9459 - val_loss: 0.2099 - val_acc: 0.9394\n",
            "Epoch 17/50\n",
            "329/329 [==============================] - 1s 3ms/step - loss: 0.1848 - acc: 0.9470 - val_loss: 0.1979 - val_acc: 0.9425\n",
            "Epoch 18/50\n",
            "329/329 [==============================] - 1s 3ms/step - loss: 0.1778 - acc: 0.9494 - val_loss: 0.2047 - val_acc: 0.9401\n",
            "Epoch 19/50\n",
            "329/329 [==============================] - 1s 3ms/step - loss: 0.1721 - acc: 0.9515 - val_loss: 0.1869 - val_acc: 0.9452\n",
            "Epoch 20/50\n",
            "329/329 [==============================] - 1s 3ms/step - loss: 0.1660 - acc: 0.9526 - val_loss: 0.2281 - val_acc: 0.9316\n",
            "Epoch 21/50\n",
            "329/329 [==============================] - 1s 3ms/step - loss: 0.1610 - acc: 0.9551 - val_loss: 0.1757 - val_acc: 0.9481\n",
            "Epoch 22/50\n",
            "329/329 [==============================] - 1s 3ms/step - loss: 0.1554 - acc: 0.9562 - val_loss: 0.1824 - val_acc: 0.9459\n",
            "Epoch 23/50\n",
            "329/329 [==============================] - 1s 3ms/step - loss: 0.1506 - acc: 0.9570 - val_loss: 0.1662 - val_acc: 0.9517\n",
            "Epoch 24/50\n",
            "329/329 [==============================] - 1s 3ms/step - loss: 0.1456 - acc: 0.9586 - val_loss: 0.1683 - val_acc: 0.9494\n",
            "Epoch 25/50\n",
            "329/329 [==============================] - 1s 3ms/step - loss: 0.1414 - acc: 0.9601 - val_loss: 0.1681 - val_acc: 0.9504\n",
            "Epoch 26/50\n",
            "329/329 [==============================] - 1s 3ms/step - loss: 0.1369 - acc: 0.9613 - val_loss: 0.1573 - val_acc: 0.9535\n",
            "Epoch 27/50\n",
            "329/329 [==============================] - 1s 3ms/step - loss: 0.1328 - acc: 0.9625 - val_loss: 0.1525 - val_acc: 0.9557\n",
            "Epoch 28/50\n",
            "329/329 [==============================] - 1s 3ms/step - loss: 0.1292 - acc: 0.9635 - val_loss: 0.1532 - val_acc: 0.9548\n",
            "Epoch 29/50\n",
            "329/329 [==============================] - 1s 3ms/step - loss: 0.1256 - acc: 0.9644 - val_loss: 0.1475 - val_acc: 0.9565\n",
            "Epoch 30/50\n",
            "329/329 [==============================] - 1s 3ms/step - loss: 0.1222 - acc: 0.9655 - val_loss: 0.1455 - val_acc: 0.9566\n",
            "Epoch 31/50\n",
            "329/329 [==============================] - 1s 3ms/step - loss: 0.1188 - acc: 0.9664 - val_loss: 0.1430 - val_acc: 0.9576\n",
            "Epoch 32/50\n",
            "329/329 [==============================] - 1s 3ms/step - loss: 0.1159 - acc: 0.9676 - val_loss: 0.1436 - val_acc: 0.9564\n",
            "Epoch 33/50\n",
            "329/329 [==============================] - 1s 3ms/step - loss: 0.1127 - acc: 0.9683 - val_loss: 0.1405 - val_acc: 0.9580\n",
            "Epoch 34/50\n",
            "329/329 [==============================] - 1s 3ms/step - loss: 0.1096 - acc: 0.9689 - val_loss: 0.1415 - val_acc: 0.9569\n",
            "Epoch 35/50\n",
            "329/329 [==============================] - 1s 3ms/step - loss: 0.1068 - acc: 0.9697 - val_loss: 0.1377 - val_acc: 0.9582\n",
            "Epoch 36/50\n",
            "329/329 [==============================] - 1s 3ms/step - loss: 0.1042 - acc: 0.9703 - val_loss: 0.1361 - val_acc: 0.9579\n",
            "Epoch 37/50\n",
            "329/329 [==============================] - 1s 3ms/step - loss: 0.1015 - acc: 0.9710 - val_loss: 0.1308 - val_acc: 0.9596\n",
            "Epoch 38/50\n",
            "329/329 [==============================] - 1s 3ms/step - loss: 0.0993 - acc: 0.9718 - val_loss: 0.1278 - val_acc: 0.9617\n",
            "Epoch 39/50\n",
            "329/329 [==============================] - 1s 3ms/step - loss: 0.0967 - acc: 0.9724 - val_loss: 0.1315 - val_acc: 0.9597\n",
            "Epoch 40/50\n",
            "329/329 [==============================] - 1s 3ms/step - loss: 0.0947 - acc: 0.9727 - val_loss: 0.1293 - val_acc: 0.9614\n",
            "Epoch 41/50\n",
            "329/329 [==============================] - 1s 3ms/step - loss: 0.0925 - acc: 0.9735 - val_loss: 0.1246 - val_acc: 0.9625\n",
            "Epoch 42/50\n",
            "329/329 [==============================] - 1s 3ms/step - loss: 0.0902 - acc: 0.9742 - val_loss: 0.1430 - val_acc: 0.9562\n",
            "Epoch 43/50\n",
            "329/329 [==============================] - 1s 4ms/step - loss: 0.0878 - acc: 0.9746 - val_loss: 0.1219 - val_acc: 0.9631\n",
            "Epoch 44/50\n",
            "329/329 [==============================] - 1s 4ms/step - loss: 0.0859 - acc: 0.9755 - val_loss: 0.1199 - val_acc: 0.9639\n",
            "Epoch 45/50\n",
            "329/329 [==============================] - 1s 3ms/step - loss: 0.0841 - acc: 0.9758 - val_loss: 0.1178 - val_acc: 0.9639\n",
            "Epoch 46/50\n",
            "329/329 [==============================] - 1s 3ms/step - loss: 0.0818 - acc: 0.9770 - val_loss: 0.1188 - val_acc: 0.9642\n",
            "Epoch 47/50\n",
            "329/329 [==============================] - 1s 3ms/step - loss: 0.0803 - acc: 0.9770 - val_loss: 0.1198 - val_acc: 0.9633\n",
            "Epoch 48/50\n",
            "329/329 [==============================] - 1s 3ms/step - loss: 0.0784 - acc: 0.9770 - val_loss: 0.1170 - val_acc: 0.9642\n",
            "Epoch 49/50\n",
            "329/329 [==============================] - 1s 3ms/step - loss: 0.0767 - acc: 0.9783 - val_loss: 0.1160 - val_acc: 0.9647\n",
            "Epoch 50/50\n",
            "329/329 [==============================] - 1s 3ms/step - loss: 0.0749 - acc: 0.9787 - val_loss: 0.1200 - val_acc: 0.9637\n"
          ]
        }
      ]
    },
    {
      "cell_type": "code",
      "source": [
        "history.history.keys()"
      ],
      "metadata": {
        "colab": {
          "base_uri": "https://localhost:8080/"
        },
        "id": "h5mD-ZQMdIlh",
        "outputId": "234d2259-02e6-493d-d925-216d178c0e06"
      },
      "execution_count": 11,
      "outputs": [
        {
          "output_type": "execute_result",
          "data": {
            "text/plain": [
              "dict_keys(['loss', 'acc', 'val_loss', 'val_acc'])"
            ]
          },
          "metadata": {},
          "execution_count": 11
        }
      ]
    },
    {
      "cell_type": "code",
      "source": [
        "history_dict= history.history\n",
        "# ------------------------------------------------------\n",
        "loss= history_dict['loss']\n",
        "val_loss= history_dict['val_loss']\n",
        "\n",
        "epochs= range(1,len(loss)+1)\n",
        "fig= plt.figure(figsize=(12,5))\n",
        "\n",
        "ax1= fig.add_subplot(1,2,1)\n",
        "ax1.plot(epochs, loss, color='blue', label='train_loss')\n",
        "ax1.plot(epochs, val_loss, color='red', label='val_loss')\n",
        "ax1.set_title('Train & Validation Loss')\n",
        "ax1.set_xlabel('Epochs')\n",
        "ax1.set_ylabel('Loss')\n",
        "ax1.grid()\n",
        "ax1.legend()\n",
        "\n",
        "# ------------------------------------------------------\n",
        "accuracy= history_dict['acc']\n",
        "val_accuracy= history_dict['val_acc']\n",
        "\n",
        "ax2= fig.add_subplot(1,2,2)\n",
        "ax2.plot(epochs, accuracy, color='blue', label='train_accuracy')\n",
        "ax2.plot(epochs, val_accuracy, color='red', label='val_accuracy')\n",
        "ax2.set_title('Train & Validation Accuracy')\n",
        "ax2.set_xlabel('Epochs')\n",
        "ax2.set_ylabel('Accuracy')\n",
        "ax2.grid()\n",
        "ax2.legend()\n"
      ],
      "metadata": {
        "colab": {
          "base_uri": "https://localhost:8080/",
          "height": 363
        },
        "id": "2p3YZ1dsdIjg",
        "outputId": "af137521-f17e-4e14-bf9b-8fd277bcc32a"
      },
      "execution_count": 15,
      "outputs": [
        {
          "output_type": "execute_result",
          "data": {
            "text/plain": [
              "<matplotlib.legend.Legend at 0x7f7b4657b790>"
            ]
          },
          "metadata": {},
          "execution_count": 15
        },
        {
          "output_type": "display_data",
          "data": {
            "image/png": "[encoded data removed]",
            "text/plain": [
              "<Figure size 864x360 with 2 Axes>"
            ]
          },
          "metadata": {
            "needs_background": "light"
          }
        }
      ]
    },
    {
      "cell_type": "markdown",
      "source": [
        "# model 평가 및 예측"
      ],
      "metadata": {
        "id": "vW3EX2p5iIG4"
      }
    },
    {
      "cell_type": "code",
      "source": [
        "model.evaluate(x_test,y_test)"
      ],
      "metadata": {
        "colab": {
          "base_uri": "https://localhost:8080/"
        },
        "id": "ENIB79YFZjXI",
        "outputId": "46489f4c-2de3-4560-c5bc-8927c70a01e2"
      },
      "execution_count": 16,
      "outputs": [
        {
          "output_type": "stream",
          "name": "stdout",
          "text": [
            "313/313 [==============================] - 1s 2ms/step - loss: 0.1217 - acc: 0.9645\n"
          ]
        },
        {
          "output_type": "execute_result",
          "data": {
            "text/plain": [
              "[0.12172146141529083, 0.9645000100135803]"
            ]
          },
          "metadata": {},
          "execution_count": 16
        }
      ]
    },
    {
      "cell_type": "code",
      "source": [
        "pred_ys = model.predict(x_test)\n",
        "print(pred_ys.shape)\n",
        "\n",
        "np.set_printoptions(precision=7)\n",
        "print(pred_ys[0])"
      ],
      "metadata": {
        "colab": {
          "base_uri": "https://localhost:8080/"
        },
        "id": "LiCcwe9PZjUw",
        "outputId": "a14fd565-9059-4196-d3f9-adc28a6d2423"
      },
      "execution_count": 18,
      "outputs": [
        {
          "output_type": "stream",
          "name": "stdout",
          "text": [
            "(10000, 10)\n",
            "[7.3190243e-08 5.8768308e-08 1.3527684e-06 4.2127402e-05 2.3010474e-09\n",
            " 3.4145071e-07 2.5793055e-11 9.9995494e-01 9.9784607e-08 9.8169744e-07]\n"
          ]
        }
      ]
    },
    {
      "cell_type": "code",
      "source": [
        "arg_pred_y = np.argmax(pred_ys, axis=1)\n",
        "\n",
        "plt.imshow(x_test[0])\n",
        "plt.title('Predicted label : {}'.format(arg_pred_y[0]))"
      ],
      "metadata": {
        "colab": {
          "base_uri": "https://localhost:8080/",
          "height": 295
        },
        "id": "EsvD-2QqZjJR",
        "outputId": "822510e6-6d78-4dc9-8117-51ebac7d643c"
      },
      "execution_count": 19,
      "outputs": [
        {
          "output_type": "execute_result",
          "data": {
            "text/plain": [
              "Text(0.5, 1.0, 'Predicted label : 7')"
            ]
          },
          "metadata": {},
          "execution_count": 19
        },
        {
          "output_type": "display_data",
          "data": {
            "image/png": "[encoded data removed]",
            "text/plain": [
              "<Figure size 432x288 with 1 Axes>"
            ]
          },
          "metadata": {
            "needs_background": "light"
          }
        }
      ]
    },
    {
      "cell_type": "markdown",
      "source": [
        "# Confusion Matrix"
      ],
      "metadata": {
        "id": "C13T_s1ji_1A"
      }
    },
    {
      "cell_type": "code",
      "source": [
        "from sklearn.metrics import classification_report, confusion_matrix\n",
        "import seaborn as sns\n",
        "sns.set(style='white')\n",
        "\n",
        "plt.figure(figsize=(8,8))\n",
        "cm= confusion_matrix(np.argmax(y_test, axis=1), np.argmax(pred_ys, axis=-1))\n",
        "sns.heatmap(cm, annot=True, fmt='d', cmap='Blues')\n",
        "plt.xlabel('Predicted Label')\n",
        "plt.ylabel('True Label')\n",
        "plt.show()"
      ],
      "metadata": {
        "colab": {
          "base_uri": "https://localhost:8080/",
          "height": 502
        },
        "id": "TTFS4lokjCNT",
        "outputId": "e1817175-a61b-4fec-f126-b0198236976d"
      },
      "execution_count": 26,
      "outputs": [
        {
          "output_type": "display_data",
          "data": {
            "image/png": "[encoded data removed]",
            "text/plain": [
              "<Figure size 576x576 with 2 Axes>"
            ]
          },
          "metadata": {}
        }
      ]
    },
    {
      "cell_type": "markdown",
      "source": [
        "# 분류 보고서"
      ],
      "metadata": {
        "id": "1nz-ozAPkBc7"
      }
    },
    {
      "cell_type": "code",
      "source": [
        "print(classification_report(np.argmax(y_test, axis=1), np.argmax(pred_ys, axis=1))) # 정답/ predicted"
      ],
      "metadata": {
        "colab": {
          "base_uri": "https://localhost:8080/"
        },
        "id": "vIiVcoX_juVP",
        "outputId": "65372fee-21fc-47df-e7dd-1a9770064897"
      },
      "execution_count": 27,
      "outputs": [
        {
          "output_type": "stream",
          "name": "stdout",
          "text": [
            "              precision    recall  f1-score   support\n",
            "\n",
            "           0       0.97      0.99      0.98       980\n",
            "           1       0.99      0.99      0.99      1135\n",
            "           2       0.98      0.95      0.97      1032\n",
            "           3       0.93      0.98      0.95      1010\n",
            "           4       0.96      0.97      0.97       982\n",
            "           5       0.99      0.92      0.95       892\n",
            "           6       0.96      0.97      0.97       958\n",
            "           7       0.95      0.98      0.97      1028\n",
            "           8       0.96      0.94      0.95       974\n",
            "           9       0.98      0.94      0.96      1009\n",
            "\n",
            "    accuracy                           0.96     10000\n",
            "   macro avg       0.96      0.96      0.96     10000\n",
            "weighted avg       0.96      0.96      0.96     10000\n",
            "\n"
          ]
        }
      ]
    },
    {
      "cell_type": "markdown",
      "source": [
        "### 모델 저장과 복원\n",
        "\n",
        "- `save()`\n",
        "- `load_model()`\n",
        "- Sequencial API, 함수형 API에서는 모델의 저장 및 로드가 가능하지만 ,서브클래싱 방식으로는 할 수 없음\n",
        "- 서브클래싱 방식은 `save_weights()`와 `load_weights()`를 이용해 모델의 파라미터만 저장 및 로드\n",
        "\n",
        "- JSON 형식\n",
        "  - `model.to_json()` (저장)\n",
        "  - `tf.keras.models.model_from_json(file_path)` (복원)\n",
        "\n",
        "- YAML로 직렬화\n",
        "  - `model.to_yaml()` (저장)\n",
        "  - `tf.keras.models.model_from_yaml(file_path)` (복원)\n"
      ],
      "metadata": {
        "id": "QIYxNddukYpj"
      }
    },
    {
      "cell_type": "code",
      "source": [
        "model.save('mnist_model.h5')"
      ],
      "metadata": {
        "id": "e5AQvEUpkSMD"
      },
      "execution_count": 28,
      "outputs": []
    },
    {
      "cell_type": "code",
      "source": [
        "loaded_model= models.load_model('mnist_model.h5')\n",
        "loaded_model.summary()"
      ],
      "metadata": {
        "colab": {
          "base_uri": "https://localhost:8080/"
        },
        "id": "IUjKShPCkuW3",
        "outputId": "1d46f63d-b8f0-4aee-c4ef-94640280f8f1"
      },
      "execution_count": 29,
      "outputs": [
        {
          "output_type": "stream",
          "name": "stdout",
          "text": [
            "Model: \"sequential\"\n",
            "_________________________________________________________________\n",
            " Layer (type)                Output Shape              Param #   \n",
            "=================================================================\n",
            " flatten (Flatten)           (None, 784)               0         \n",
            "                                                                 \n",
            " dense1 (Dense)              (None, 100)               78500     \n",
            "                                                                 \n",
            " dense2 (Dense)              (None, 64)                6464      \n",
            "                                                                 \n",
            " dense3 (Dense)              (None, 32)                2080      \n",
            "                                                                 \n",
            " output (Dense)              (None, 10)                330       \n",
            "                                                                 \n",
            "=================================================================\n",
            "Total params: 87,374\n",
            "Trainable params: 87,374\n",
            "Non-trainable params: 0\n",
            "_________________________________________________________________\n"
          ]
        }
      ]
    },
    {
      "cell_type": "code",
      "source": [
        "# 불러온 모델로 predict 해보자\n",
        "pred_ys2= loaded_model.predict(x_test)\n",
        "print(pred_ys2.shape)\n",
        "np.set_printoptions(precision=7)  # (suppress=True) 도 깔끔하게 나옴\n",
        "print(pred_ys2[0])"
      ],
      "metadata": {
        "colab": {
          "base_uri": "https://localhost:8080/"
        },
        "id": "blPjlj1Yk4HS",
        "outputId": "b3ea72ef-b669-4789-8076-150c8703062a"
      },
      "execution_count": 31,
      "outputs": [
        {
          "output_type": "stream",
          "name": "stdout",
          "text": [
            "(10000, 10)\n",
            "[7.3190243e-08 5.8768308e-08 1.3527684e-06 4.2127402e-05 2.3010474e-09\n",
            " 3.4145071e-07 2.5793055e-11 9.9995494e-01 9.9784607e-08 9.8169744e-07]\n"
          ]
        }
      ]
    },
    {
      "cell_type": "code",
      "source": [
        "arg_pred_y2 = np.argmax(pred_ys2, axis=1)\n",
        "\n",
        "plt.imshow(x_test[0])\n",
        "plt.title('Predicted label : {}'.format(arg_pred_y2[0]))"
      ],
      "metadata": {
        "colab": {
          "base_uri": "https://localhost:8080/",
          "height": 302
        },
        "id": "SxGPQwePk4E7",
        "outputId": "8559f939-50e5-4cb5-e66e-e1446088ba6c"
      },
      "execution_count": 32,
      "outputs": [
        {
          "output_type": "execute_result",
          "data": {
            "text/plain": [
              "Text(0.5, 1.0, 'Predicted label : 7')"
            ]
          },
          "metadata": {},
          "execution_count": 32
        },
        {
          "output_type": "display_data",
          "data": {
            "image/png": "[encoded data removed]",
            "text/plain": [
              "<Figure size 432x288 with 1 Axes>"
            ]
          },
          "metadata": {}
        }
      ]
    },
    {
      "cell_type": "markdown",
      "source": [
        "### 콜백 (Callbacks)\n",
        "\n",
        "- `fit()` 함수의 callbacks 매개변수를 사용하여 케라스가 훈련의 시작이나 끝에 호출할 객체 리스트를 지정할 수 있음\n",
        "- 여러 개 사용 가능\n",
        "- ModelCheckpoint\n",
        "  - `tf.keras.callbacks.ModelCheckpoint`\n",
        "  - 정기적으로 모델의 체크포인트를 저장하고, 문제가 발생할 때 복구하는데 사용\n",
        "- EarlyStopping\n",
        "  - `tf.keras.callbacks.EarlyStopping`\n",
        "  - 검증 성능이 한동안 개선되지 않을 경우 학습을 중단할 때 사용\n",
        "- LearningRateSchduler\n",
        "  - `tf.keras.callbacks.LearningRateSchduler`\n",
        "  - 최적화를 하는 동안 학습률(learning_rate)를 동적으로 변경할 때 사용\n",
        "- TensorBoard\n",
        "  - `tf.keras.callbacks.TensorBoard`\n",
        "  - 모델의 경과를 모니터링할 때 사용\n"
      ],
      "metadata": {
        "id": "2ClTpjyUle4M"
      }
    },
    {
      "cell_type": "code",
      "source": [
        "from tensorflow.keras.callbacks import ModelCheckpoint,EarlyStopping, LearningRateScheduler, TensorBoard"
      ],
      "metadata": {
        "id": "vhOCtoDMk4Cb"
      },
      "execution_count": 33,
      "outputs": []
    },
    {
      "cell_type": "markdown",
      "source": [
        "#### ModelCheckpoint"
      ],
      "metadata": {
        "id": "4yuqE7J9ma3j"
      }
    },
    {
      "cell_type": "code",
      "source": [
        "check_point_cb= ModelCheckpoint('keras_mnist_model.h5')\n",
        "history= model.fit(x_train,y_train, epochs=10,\n",
        "                   callbacks=[check_point_cb])"
      ],
      "metadata": {
        "colab": {
          "base_uri": "https://localhost:8080/"
        },
        "id": "pNzog918mcZK",
        "outputId": "839ff7df-7931-4112-f8cf-dd7ee0fcadbc"
      },
      "execution_count": 34,
      "outputs": [
        {
          "output_type": "stream",
          "name": "stdout",
          "text": [
            "Epoch 1/10\n",
            "1313/1313 [==============================] - 3s 3ms/step - loss: 0.0834 - acc: 0.9750\n",
            "Epoch 2/10\n",
            "1313/1313 [==============================] - 3s 3ms/step - loss: 0.0778 - acc: 0.9763\n",
            "Epoch 3/10\n",
            "1313/1313 [==============================] - 3s 3ms/step - loss: 0.0713 - acc: 0.9791\n",
            "Epoch 4/10\n",
            "1313/1313 [==============================] - 3s 3ms/step - loss: 0.0663 - acc: 0.9803\n",
            "Epoch 5/10\n",
            "1313/1313 [==============================] - 3s 3ms/step - loss: 0.0611 - acc: 0.9819\n",
            "Epoch 6/10\n",
            "1313/1313 [==============================] - 3s 3ms/step - loss: 0.0569 - acc: 0.9833\n",
            "Epoch 7/10\n",
            "1313/1313 [==============================] - 4s 3ms/step - loss: 0.0527 - acc: 0.9842\n",
            "Epoch 8/10\n",
            "1313/1313 [==============================] - 3s 3ms/step - loss: 0.0491 - acc: 0.9858\n",
            "Epoch 9/10\n",
            "1313/1313 [==============================] - 3s 3ms/step - loss: 0.0450 - acc: 0.9868\n",
            "Epoch 10/10\n",
            "1313/1313 [==============================] - 3s 3ms/step - loss: 0.0424 - acc: 0.9877\n"
          ]
        }
      ]
    },
    {
      "cell_type": "code",
      "source": [
        "# 최상의 모델만을 저장: `save_best_only=True`\n",
        "\n",
        "\n",
        "check_point_cb= ModelCheckpoint('keras_mnist_model.h5', save_best_only=True)\n",
        "history= model.fit(x_train,y_train, epochs=10,\n",
        "                   validation_data=(x_val,y_val),  # train으로 최상 모델 저장은 저장이 안될 수 있음 / val_loss로 줘야됨\n",
        "                   callbacks=[check_point_cb])"
      ],
      "metadata": {
        "colab": {
          "base_uri": "https://localhost:8080/"
        },
        "id": "JG5KmcGvmcW7",
        "outputId": "6597f719-d8a3-4e47-ed6f-3d0c6086b929"
      },
      "execution_count": 37,
      "outputs": [
        {
          "output_type": "stream",
          "name": "stdout",
          "text": [
            "Epoch 1/10\n",
            "1313/1313 [==============================] - 4s 3ms/step - loss: 0.0079 - acc: 0.9993 - val_loss: 0.1027 - val_acc: 0.9738\n",
            "Epoch 2/10\n",
            "1313/1313 [==============================] - 4s 3ms/step - loss: 0.0076 - acc: 0.9993 - val_loss: 0.1063 - val_acc: 0.9743\n",
            "Epoch 3/10\n",
            "1313/1313 [==============================] - 4s 3ms/step - loss: 0.0068 - acc: 0.9995 - val_loss: 0.1051 - val_acc: 0.9741\n",
            "Epoch 4/10\n",
            "1313/1313 [==============================] - 4s 3ms/step - loss: 0.0065 - acc: 0.9995 - val_loss: 0.1079 - val_acc: 0.9734\n",
            "Epoch 5/10\n",
            "1313/1313 [==============================] - 4s 3ms/step - loss: 0.0058 - acc: 0.9997 - val_loss: 0.1063 - val_acc: 0.9749\n",
            "Epoch 6/10\n",
            "1313/1313 [==============================] - 4s 3ms/step - loss: 0.0057 - acc: 0.9995 - val_loss: 0.1092 - val_acc: 0.9741\n",
            "Epoch 7/10\n",
            "1313/1313 [==============================] - 4s 3ms/step - loss: 0.0052 - acc: 0.9997 - val_loss: 0.1066 - val_acc: 0.9749\n",
            "Epoch 8/10\n",
            "1313/1313 [==============================] - 4s 3ms/step - loss: 0.0049 - acc: 0.9997 - val_loss: 0.1070 - val_acc: 0.9748\n",
            "Epoch 9/10\n",
            "1313/1313 [==============================] - 4s 3ms/step - loss: 0.0045 - acc: 0.9998 - val_loss: 0.1097 - val_acc: 0.9737\n",
            "Epoch 10/10\n",
            "1313/1313 [==============================] - 4s 3ms/step - loss: 0.0046 - acc: 0.9997 - val_loss: 0.1079 - val_acc: 0.9752\n"
          ]
        }
      ]
    },
    {
      "cell_type": "code",
      "source": [
        "# 난 이렇게 하는게 편하드라구 \n",
        "\n",
        "# ModelCheckpoint('저장할 위치', monitor='val_f1score' , # val_f1score max일 때를 보자 \n",
        "#                                mode='max', verbose=0,save_best_only=True ,save_weights_only=False) "
      ],
      "metadata": {
        "id": "kC_LEOnpoE5u"
      },
      "execution_count": 38,
      "outputs": []
    },
    {
      "cell_type": "markdown",
      "source": [
        "#### EarlyStopping\n",
        "\n",
        "- 일정 `patience` 동안 검증 세트에 대한 점수가 오르지 않으면 학습을 멈춤\n",
        "- 모델이 향상되지 않으면 학습이 자동으로 중지되므로, `epochs` 숫자를 크게 해도 무방\n",
        "- 학습이 끝난 후의 최상의 가중치를 복원하기 때문에 모델을 따로 복원할 필요없음"
      ],
      "metadata": {
        "id": "gtCuhbDjnIJj"
      }
    },
    {
      "cell_type": "code",
      "source": [
        "check_point_cb= ModelCheckpoint('keras_mnist_model.h5', save_best_only=True)\n",
        "early_stopping_cb= EarlyStopping(patience=3, monitor='val_loss', \n",
        "                                 restore_best_weights=True)\n",
        "\n",
        "history= model.fit(x_train,y_train, epochs=10,\n",
        "                   validation_data=(x_val,y_val),  # train으로 최상 모델 저장은 저장이 안될 수 있음 / val_loss로 줘야됨\n",
        "                   callbacks=[check_point_cb, early_stopping_cb])"
      ],
      "metadata": {
        "colab": {
          "base_uri": "https://localhost:8080/"
        },
        "id": "bYuiRMlPmcUy",
        "outputId": "d95b7cc4-4653-488b-cdd2-78e792ced5ee"
      },
      "execution_count": 39,
      "outputs": [
        {
          "output_type": "stream",
          "name": "stdout",
          "text": [
            "Epoch 1/10\n",
            "1313/1313 [==============================] - 4s 3ms/step - loss: 0.0041 - acc: 0.9998 - val_loss: 0.1089 - val_acc: 0.9743\n",
            "Epoch 2/10\n",
            "1313/1313 [==============================] - 4s 3ms/step - loss: 0.0038 - acc: 0.9999 - val_loss: 0.1116 - val_acc: 0.9747\n",
            "Epoch 3/10\n",
            "1313/1313 [==============================] - 4s 3ms/step - loss: 0.0036 - acc: 0.9998 - val_loss: 0.1107 - val_acc: 0.9748\n",
            "Epoch 4/10\n",
            "1313/1313 [==============================] - 4s 3ms/step - loss: 0.0035 - acc: 0.9999 - val_loss: 0.1127 - val_acc: 0.9746\n"
          ]
        }
      ]
    },
    {
      "cell_type": "code",
      "source": [
        ""
      ],
      "metadata": {
        "id": "xcICl3iJmcSV"
      },
      "execution_count": null,
      "outputs": []
    },
    {
      "cell_type": "code",
      "source": [
        ""
      ],
      "metadata": {
        "id": "27V8kuVAmcPy"
      },
      "execution_count": null,
      "outputs": []
    },
    {
      "cell_type": "code",
      "source": [
        ""
      ],
      "metadata": {
        "id": "F6BGCbmPmZpC"
      },
      "execution_count": null,
      "outputs": []
    }
  ]
}